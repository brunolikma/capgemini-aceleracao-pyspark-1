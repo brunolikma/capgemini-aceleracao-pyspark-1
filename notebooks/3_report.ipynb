{
 "cells": [
  {
   "cell_type": "code",
   "execution_count": 1,
   "id": "21e9c6e5",
   "metadata": {},
   "outputs": [],
   "source": [
    "import findspark\n",
    "findspark.init()"
   ]
  },
  {
   "cell_type": "code",
   "execution_count": 2,
   "id": "5c785f6d",
   "metadata": {},
   "outputs": [],
   "source": [
    "from pyspark import SparkContext, SparkConf\n",
    "from pyspark.sql import SparkSession\n",
    "from pyspark.sql import functions as F\n",
    "import pandas as pd"
   ]
  },
  {
   "cell_type": "code",
   "execution_count": 3,
   "id": "88eaf27b",
   "metadata": {},
   "outputs": [],
   "source": [
    "# Criar o contexto do spark\n",
    "sc = SparkContext()\n",
    "\n",
    "# Instancia o criador de sessao do spark\n",
    "spark = (SparkSession.builder\n",
    "                     .master(\"local[7]\")\n",
    "                     .appName(\"Aceleração PySpark - Capgemini\"))"
   ]
  },
  {
   "cell_type": "markdown",
   "id": "922cac21",
   "metadata": {},
   "source": [
    "## -- Import dos arquivos de Qualidade e Transformação"
   ]
  },
  {
   "cell_type": "markdown",
   "id": "929fa4cf",
   "metadata": {},
   "source": [
    "####  Import dos arquivos de Qualidade"
   ]
  },
  {
   "cell_type": "code",
   "execution_count": 4,
   "id": "8d3eecc9",
   "metadata": {},
   "outputs": [],
   "source": [
    "airports_qa = (spark.getOrCreate().read\n",
    "                    .format(\"parquet\")\n",
    "                    .option(\"header\", \"true\")\n",
    "                    .load(\"./datasets_qa/airports_qa.parquet\"))\n",
    "\n",
    "planes_qa = (spark.getOrCreate().read\n",
    "                  .format(\"parquet\")\n",
    "                  .option(\"header\", \"true\")\n",
    "                  .load(\"./datasets_qa/planes_qa.parquet\"))\n",
    "\n",
    "flights_qa = (spark.getOrCreate().read\n",
    "                   .format(\"parquet\")\n",
    "                   .option(\"header\", \"true\")\n",
    "                   .load(\"./datasets_qa/flights_qa.parquet\"))"
   ]
  },
  {
   "cell_type": "markdown",
   "id": "477aaae9",
   "metadata": {},
   "source": [
    "#### Import dos arquivos de Transformação"
   ]
  },
  {
   "cell_type": "code",
   "execution_count": 5,
   "id": "ad2607eb",
   "metadata": {},
   "outputs": [],
   "source": [
    "\n",
    "airports_trf = (spark.getOrCreate().read\n",
    "                     .format(\"parquet\")\n",
    "                     .option(\"header\", \"true\")\n",
    "                     .load(\"./datasets_trf/airports_proc.parquet\"))\n",
    "\n",
    "planes_trf = (spark.getOrCreate().read\n",
    "                   .format(\"parquet\")\n",
    "                   .option(\"header\", \"true\")\n",
    "                   .load(\"./datasets_trf/planes_proc.parquet\"))\n",
    "\n",
    "flights_trf = (spark.getOrCreate().read\n",
    "                    .format(\"parquet\")\n",
    "                    .option(\"header\", \"true\")\n",
    "                    .load(\"./datasets_trf/flights_proc.parquet\"))"
   ]
  },
  {
   "cell_type": "markdown",
   "id": "4ec2dfbe",
   "metadata": {},
   "source": [
    "## -- Perguntas para qualidade"
   ]
  },
  {
   "cell_type": "markdown",
   "id": "5598e4db",
   "metadata": {},
   "source": [
    "#### Pergunta 1"
   ]
  },
  {
   "cell_type": "code",
   "execution_count": 6,
   "id": "7a0ab615",
   "metadata": {},
   "outputs": [],
   "source": [
    "# Definição dos campos de cada DF;\n",
    "flights_qa = (flights_qa.withColumnRenamed(\"tailnum\", \"tailnum_flights\")\n",
    "                        .withColumnRenamed(\"qa_tailnum\", \"qa_tailnum_flights\"))\n",
    "\n",
    "planes_qa = (planes_qa.withColumnRenamed(\"tailnum\", \"tailnum_planes\")\n",
    "                        .withColumnRenamed(\"qa_tailnum\", \"qa_tailnum_planes\"))\n",
    "\n",
    "# Join dos DF's;\n",
    "qa_df_joins = (flights_qa.join(planes_qa, \n",
    "                                planes_qa.tailnum_planes == flights_qa.tailnum_flights, 'left')\n",
    "                          .join(airports_qa, \n",
    "                                (airports_qa.faa == flights_qa.origin) & \n",
    "                                (airports_qa.faa == flights_qa.dest), 'left'))"
   ]
  },
  {
   "cell_type": "code",
   "execution_count": 7,
   "id": "52c7dbd5",
   "metadata": {},
   "outputs": [
    {
     "name": "stdout",
     "output_type": "stream",
     "text": [
      "10000\n"
     ]
    }
   ],
   "source": [
    "# Checagem de linha dos joins;\n",
    "print(qa_df_joins.count())"
   ]
  },
  {
   "cell_type": "markdown",
   "id": "e5e9bba0",
   "metadata": {},
   "source": [
    "#### Pergunta 2"
   ]
  },
  {
   "cell_type": "code",
   "execution_count": 8,
   "id": "2209c22b",
   "metadata": {},
   "outputs": [
    {
     "name": "stdout",
     "output_type": "stream",
     "text": [
      "QA YEAR MONTH DAY\n",
      "+-----------------+------------------------+\n",
      "|qa_year_month_day|count(qa_year_month_day)|\n",
      "+-----------------+------------------------+\n",
      "|             null|                       0|\n",
      "+-----------------+------------------------+\n",
      "\n",
      "QA HOUR MINUTE\n",
      "+--------------+---------------------+\n",
      "|qa_hour_minute|count(qa_hour_minute)|\n",
      "+--------------+---------------------+\n",
      "|          null|                    0|\n",
      "|             M|                   48|\n",
      "|             I|                    1|\n",
      "+--------------+---------------------+\n",
      "\n",
      "QA DEP ARR TIME\n",
      "+---------------+----------------------+\n",
      "|qa_dep_arr_time|count(qa_dep_arr_time)|\n",
      "+---------------+----------------------+\n",
      "|              F|                   241|\n",
      "|           null|                     0|\n",
      "|              M|                    55|\n",
      "+---------------+----------------------+\n",
      "\n",
      "QA DEP ARR DELAY\n",
      "+----------------+-----------------------+\n",
      "|qa_dep_arr_delay|count(qa_dep_arr_delay)|\n",
      "+----------------+-----------------------+\n",
      "|            null|                      0|\n",
      "|               M|                     75|\n",
      "+----------------+-----------------------+\n",
      "\n",
      "QA CARRIER\n",
      "+----------+-----------------+\n",
      "|qa_carrier|count(qa_carrier)|\n",
      "+----------+-----------------+\n",
      "|      null|                0|\n",
      "+----------+-----------------+\n",
      "\n",
      "QA TAILNUM FLIGHTS\n",
      "+------------------+-------------------------+\n",
      "|qa_tailnum_flights|count(qa_tailnum_flights)|\n",
      "+------------------+-------------------------+\n",
      "|                 F|                      989|\n",
      "|              null|                        0|\n",
      "|                 S|                       14|\n",
      "+------------------+-------------------------+\n",
      "\n",
      "QA FLIGHT\n",
      "+---------+----------------+\n",
      "|qa_flight|count(qa_flight)|\n",
      "+---------+----------------+\n",
      "|        F|            6158|\n",
      "|     null|               0|\n",
      "+---------+----------------+\n",
      "\n",
      "QA ORIGIN DEST\n",
      "+--------------+---------------------+\n",
      "|qa_origin_dest|count(qa_origin_dest)|\n",
      "+--------------+---------------------+\n",
      "|          null|                    0|\n",
      "+--------------+---------------------+\n",
      "\n",
      "QA AIR TIME\n",
      "+-----------+------------------+\n",
      "|qa_air_time|count(qa_air_time)|\n",
      "+-----------+------------------+\n",
      "|       null|                 0|\n",
      "|          M|                75|\n",
      "+-----------+------------------+\n",
      "\n",
      "QA DISTANCE\n",
      "+-----------+------------------+\n",
      "|qa_distance|count(qa_distance)|\n",
      "+-----------+------------------+\n",
      "|       null|                 0|\n",
      "+-----------+------------------+\n",
      "\n",
      "QA DISTANCE AIRTIME\n",
      "+-------------------+--------------------------+\n",
      "|qa_distance_airtime|count(qa_distance_airtime)|\n",
      "+-------------------+--------------------------+\n",
      "|                  T|                      9925|\n",
      "|                  M|                        75|\n",
      "+-------------------+--------------------------+\n",
      "\n",
      "QA TAILNUM PLANES\n",
      "+-----------------+------------------------+\n",
      "|qa_tailnum_planes|count(qa_tailnum_planes)|\n",
      "+-----------------+------------------------+\n",
      "|                F|                     552|\n",
      "|             null|                       0|\n",
      "+-----------------+------------------------+\n",
      "\n",
      "QA YEAR\n",
      "+-------+--------------+\n",
      "|qa_year|count(qa_year)|\n",
      "+-------+--------------+\n",
      "|   null|             0|\n",
      "|      M|            94|\n",
      "|      I|             8|\n",
      "+-------+--------------+\n",
      "\n",
      "QA TYPE\n",
      "+-------+--------------+\n",
      "|qa_type|count(qa_type)|\n",
      "+-------+--------------+\n",
      "|   null|             0|\n",
      "+-------+--------------+\n",
      "\n",
      "QA MANUFACTURER\n",
      "+---------------+----------------------+\n",
      "|qa_manufacturer|count(qa_manufacturer)|\n",
      "+---------------+----------------------+\n",
      "|           null|                     0|\n",
      "+---------------+----------------------+\n",
      "\n",
      "QA MODEL\n",
      "+--------+---------------+\n",
      "|qa_model|count(qa_model)|\n",
      "+--------+---------------+\n",
      "|       F|              9|\n",
      "|    null|              0|\n",
      "+--------+---------------+\n",
      "\n",
      "QA ENGINES\n",
      "+----------+-----------------+\n",
      "|qa_engines|count(qa_engines)|\n",
      "+----------+-----------------+\n",
      "|      null|                0|\n",
      "+----------+-----------------+\n",
      "\n",
      "QA SEATS\n",
      "+--------+---------------+\n",
      "|qa_seats|count(qa_seats)|\n",
      "+--------+---------------+\n",
      "|    null|              0|\n",
      "+--------+---------------+\n",
      "\n",
      "QA SPEED\n",
      "+--------+---------------+\n",
      "|qa_speed|count(qa_speed)|\n",
      "+--------+---------------+\n",
      "|    null|              0|\n",
      "|       M|           9443|\n",
      "+--------+---------------+\n",
      "\n",
      "QA ENGINE\n",
      "+---------+----------------+\n",
      "|qa_engine|count(qa_engine)|\n",
      "+---------+----------------+\n",
      "|     null|               0|\n",
      "|        M|            9443|\n",
      "|        C|               4|\n",
      "+---------+----------------+\n",
      "\n",
      "QA FAA\n",
      "+------+-------------+\n",
      "|qa_faa|count(qa_faa)|\n",
      "+------+-------------+\n",
      "|  null|            0|\n",
      "+------+-------------+\n",
      "\n",
      "QA NAME\n",
      "+-------+--------------+\n",
      "|qa_name|count(qa_name)|\n",
      "+-------+--------------+\n",
      "|   null|             0|\n",
      "+-------+--------------+\n",
      "\n",
      "QA LAT\n",
      "+------+-------------+\n",
      "|qa_lat|count(qa_lat)|\n",
      "+------+-------------+\n",
      "|  null|            0|\n",
      "+------+-------------+\n",
      "\n",
      "QA LON\n",
      "+------+-------------+\n",
      "|qa_lon|count(qa_lon)|\n",
      "+------+-------------+\n",
      "|  null|            0|\n",
      "+------+-------------+\n",
      "\n",
      "QA ALT\n",
      "+------+-------------+\n",
      "|qa_alt|count(qa_alt)|\n",
      "+------+-------------+\n",
      "|  null|            0|\n",
      "+------+-------------+\n",
      "\n",
      "QA TZ\n",
      "+-----+------------+\n",
      "|qa_tz|count(qa_tz)|\n",
      "+-----+------------+\n",
      "| null|           0|\n",
      "+-----+------------+\n",
      "\n",
      "QA DST\n",
      "+------+-------------+\n",
      "|qa_dst|count(qa_dst)|\n",
      "+------+-------------+\n",
      "|  null|            0|\n",
      "+------+-------------+\n",
      "\n"
     ]
    }
   ],
   "source": [
    "for column in qa_df_joins.columns:\n",
    "    if 'qa_' in column:\n",
    "        print(column.replace('_', ' ').upper())\n",
    "        final_df = qa_df_joins.withColumn(column, (F.when((F.col(column).startswith(\"M\")) ,\"M\")\n",
    "                                                     .when((F.col(column).startswith(\"F\")) ,\"F\")\n",
    "                                                     .when((F.col(column).startswith(\"I\")) ,\"I\")\n",
    "                                                     .when((F.col(column).startswith(\"S\")) ,\"S\")\n",
    "                                                     .when((F.col(column).startswith(\"T\")) ,\"T\")\n",
    "                                                     .otherwise(F.col(column))))\n",
    "        \n",
    "        final_df.groupBy(column).agg(F.count(column)).show()"
   ]
  },
  {
   "cell_type": "markdown",
   "id": "e73e3284",
   "metadata": {},
   "source": [
    "#### Pergunta 3"
   ]
  },
  {
   "cell_type": "code",
   "execution_count": 9,
   "id": "17724830",
   "metadata": {},
   "outputs": [],
   "source": [
    "# QA SPEED\n",
    "# M 9443"
   ]
  },
  {
   "cell_type": "markdown",
   "id": "410947da",
   "metadata": {},
   "source": [
    "#### Pergunta 4"
   ]
  },
  {
   "cell_type": "code",
   "execution_count": 10,
   "id": "37351edb",
   "metadata": {},
   "outputs": [],
   "source": [
    "# QA FLIGHT\n",
    "# F 6158"
   ]
  },
  {
   "cell_type": "markdown",
   "id": "17fb66ab",
   "metadata": {},
   "source": [
    "#### Pergunta 5"
   ]
  },
  {
   "cell_type": "code",
   "execution_count": 11,
   "id": "5d2dbca3",
   "metadata": {},
   "outputs": [],
   "source": [
    "# QA_YEAR\n",
    "# I 8"
   ]
  },
  {
   "cell_type": "markdown",
   "id": "f8f9f043",
   "metadata": {},
   "source": [
    "## -- Perguntas para negócio"
   ]
  },
  {
   "cell_type": "markdown",
   "id": "279a7028",
   "metadata": {},
   "source": [
    "#### Pergunta 1"
   ]
  },
  {
   "cell_type": "code",
   "execution_count": 12,
   "id": "d629c17b",
   "metadata": {},
   "outputs": [],
   "source": [
    "planes_trf = planes_trf.withColumnRenamed(\"tailnum\",\"tailnum_plane\")\n",
    "\n",
    "df = flights_trf.join(planes_trf, flights_trf.tailnum == planes_trf.tailnum_plane, \"left\")\n",
    "\n",
    "df = df.join(airports_trf, flights_trf.origin == airports_trf.faa, \"left\")\n",
    "\n",
    "airports_trf_dest = (airports_trf.withColumnRenamed(\"faa\", \"faa_dest\")\n",
    "                                 .withColumnRenamed(\"region\", \"region_dest\")\n",
    "                                 .withColumnRenamed(\"alt\", \"alt_dest\")\n",
    "                                 .withColumnRenamed(\"name\", \"name_dest\")\n",
    "                                 .withColumnRenamed(\"type\", \"type_dest\"))\n",
    "\n",
    "trf_df_joins = df.join(airports_trf_dest, flights_trf.dest == airports_trf_dest.faa_dest, \"left\")"
   ]
  },
  {
   "cell_type": "code",
   "execution_count": 13,
   "id": "0e8c3e38",
   "metadata": {},
   "outputs": [],
   "source": [
    "trf_df_joins.createOrReplaceTempView('df_all_joins')"
   ]
  },
  {
   "cell_type": "markdown",
   "id": "f2a89cc0",
   "metadata": {},
   "source": [
    "#### Pergunta 2"
   ]
  },
  {
   "cell_type": "code",
   "execution_count": 14,
   "id": "51bea5f4",
   "metadata": {},
   "outputs": [
    {
     "name": "stdout",
     "output_type": "stream",
     "text": [
      "REGIÕES DE ORIGEM\n",
      "+-------------+--------+\n",
      "|       region|airports|\n",
      "+-------------+--------+\n",
      "|MAINLAND-WEST|       2|\n",
      "+-------------+--------+\n",
      "\n",
      "DESTINO\n",
      "+-------------+--------+\n",
      "|       region|airports|\n",
      "+-------------+--------+\n",
      "|       ALASKA|       2|\n",
      "|MAINLAND-EAST|       2|\n",
      "|MAINLAND-WEST|       2|\n",
      "+-------------+--------+\n",
      "\n"
     ]
    }
   ],
   "source": [
    "# Em cada region origin\n",
    "print('REGIÕES DE ORIGEM')\n",
    "spark.getOrCreate().sql(\"\"\"\n",
    "    select \n",
    "        region as region,\n",
    "        count(distinct name) as airports\n",
    "    from \n",
    "        df_all_joins \n",
    "    group by \n",
    "        region\"\"\").show(4)\n",
    "\n",
    "print('DESTINO')\n",
    "# Em cada region dest\n",
    "spark.getOrCreate().sql(\"\"\"\n",
    "    select \n",
    "        region_dest as region,\n",
    "        count(distinct name) as airports\n",
    "    from \n",
    "        df_all_joins \n",
    "    group by \n",
    "        region_dest\"\"\").show(4)"
   ]
  },
  {
   "cell_type": "markdown",
   "id": "f28d4754",
   "metadata": {},
   "source": [
    "#### Pergunta 3"
   ]
  },
  {
   "cell_type": "code",
   "execution_count": 15,
   "id": "e5af4efa",
   "metadata": {},
   "outputs": [
    {
     "name": "stdout",
     "output_type": "stream",
     "text": [
      "+------------+\n",
      "|max_alt_diff|\n",
      "+------------+\n",
      "|        6169|\n",
      "+------------+\n",
      "\n"
     ]
    }
   ],
   "source": [
    "spark.getOrCreate().sql(\"\"\"\n",
    "    select\n",
    "        (max(alt_dest) - max(alt)) as max_alt_diff\n",
    "    from \n",
    "        df_all_joins\n",
    "    \"\"\").show(4)"
   ]
  },
  {
   "cell_type": "markdown",
   "id": "a6c919d8",
   "metadata": {},
   "source": [
    "#### Pergunta 4"
   ]
  },
  {
   "cell_type": "code",
   "execution_count": 16,
   "id": "273d7fb6",
   "metadata": {},
   "outputs": [
    {
     "name": "stdout",
     "output_type": "stream",
     "text": [
      "+------------+----------+\n",
      "|delay_origin|delay_dest|\n",
      "+------------+----------+\n",
      "|          34|        35|\n",
      "+------------+----------+\n",
      "\n"
     ]
    }
   ],
   "source": [
    "spark.getOrCreate().sql(\"\"\"\n",
    "    select\n",
    "         ceil(avg(arr_delay)) as delay_origin,\n",
    "         ceil(avg(dep_delay)) as delay_dest\n",
    "    from \n",
    "        df_all_joins\n",
    "    where \n",
    "        arr_delay > 0 and \n",
    "        dep_delay > 0\n",
    "    \"\"\").show(4)"
   ]
  },
  {
   "cell_type": "markdown",
   "id": "ff42f940",
   "metadata": {},
   "source": [
    "#### Pergunta 5"
   ]
  },
  {
   "cell_type": "code",
   "execution_count": 17,
   "id": "65b74fa2",
   "metadata": {},
   "outputs": [
    {
     "name": "stdout",
     "output_type": "stream",
     "text": [
      "REGIÕES DE ORIGEM\n",
      "+-------------+---------+\n",
      "|       region|delay_avg|\n",
      "+-------------+---------+\n",
      "|MAINLAND-WEST|    24.65|\n",
      "+-------------+---------+\n",
      "\n",
      "DESTINO\n",
      "+-------------+---------+\n",
      "|       region|delay_avg|\n",
      "+-------------+---------+\n",
      "|       ALASKA|    22.21|\n",
      "|MAINLAND-EAST|    28.53|\n",
      "|MAINLAND-WEST|    23.79|\n",
      "+-------------+---------+\n",
      "\n"
     ]
    }
   ],
   "source": [
    "print('REGIÕES DE ORIGEM')\n",
    "spark.getOrCreate().sql(\"\"\"\n",
    "    select\n",
    "        region as region,\n",
    "        round(avg(arr_delay), 2) as delay_avg\n",
    "    from \n",
    "        df_all_joins\n",
    "    where \n",
    "        arr_delay > 0\n",
    "    group by \n",
    "        region\"\"\").show(4)\n",
    "\n",
    "print('DESTINO')\n",
    "spark.getOrCreate().sql(\"\"\"\n",
    "    select\n",
    "        region_dest as region,\n",
    "        round(avg(arr_delay), 2) as delay_avg\n",
    "    from \n",
    "        df_all_joins\n",
    "    where \n",
    "        arr_delay > 0\n",
    "    group by \n",
    "        region_dest\"\"\").show(4)\n"
   ]
  },
  {
   "cell_type": "markdown",
   "id": "8f1384c5",
   "metadata": {},
   "source": [
    "#### Pergunta 6"
   ]
  },
  {
   "cell_type": "code",
   "execution_count": 18,
   "id": "339f90f0",
   "metadata": {},
   "outputs": [
    {
     "name": "stdout",
     "output_type": "stream",
     "text": [
      "+----+---------+---------+\n",
      "|year|arr_delay|dep_delay|\n",
      "+----+---------+---------+\n",
      "|2014|    22362|    60395|\n",
      "+----+---------+---------+\n",
      "\n"
     ]
    }
   ],
   "source": [
    "spark.getOrCreate().sql(\"\"\"\n",
    "    select\n",
    "        year(dep_datetime) as year,\n",
    "        sum(arr_delay) as arr_delay,\n",
    "        sum(dep_delay) as dep_delay\n",
    "    from \n",
    "        df_all_joins\n",
    "    group by \n",
    "        year(dep_datetime)\"\"\").show(4)"
   ]
  },
  {
   "cell_type": "markdown",
   "id": "b5bb6022",
   "metadata": {},
   "source": [
    "#### Pergunta 7"
   ]
  },
  {
   "cell_type": "code",
   "execution_count": 19,
   "id": "7c00abe2",
   "metadata": {},
   "outputs": [
    {
     "name": "stdout",
     "output_type": "stream",
     "text": [
      "SOMENTE ORIGEM\n",
      "+-------------+----+-----------------+\n",
      "|       region|year|accumulated_delay|\n",
      "+-------------+----+-----------------+\n",
      "|MAINLAND-WEST|2014|            22362|\n",
      "+-------------+----+-----------------+\n",
      "\n",
      "SOMENTE DESTINO\n",
      "+-------------+----+-----------------+\n",
      "|       region|year|accumulated_delay|\n",
      "+-------------+----+-----------------+\n",
      "|MAINLAND-WEST|2014|            38825|\n",
      "|       ALASKA|2014|             4891|\n",
      "|MAINLAND-EAST|2014|            16679|\n",
      "+-------------+----+-----------------+\n",
      "\n",
      "ORIGEM - DESTINO\n",
      "+-------------+----+-----------------+\n",
      "|       region|year|accumulated_delay|\n",
      "+-------------+----+-----------------+\n",
      "|MAINLAND-WEST|2014|            56704|\n",
      "|       ALASKA|2014|             4435|\n",
      "|MAINLAND-EAST|2014|            21618|\n",
      "+-------------+----+-----------------+\n",
      "\n"
     ]
    }
   ],
   "source": [
    "print('SOMENTE ORIGEM')\n",
    "spark.getOrCreate().sql(\"\"\"\n",
    "    select\n",
    "        region as region,\n",
    "        year(dep_datetime) as year,\n",
    "        sum(arr_delay) as accumulated_delay\n",
    "    from \n",
    "        df_all_joins\n",
    "    group by\n",
    "        region,\n",
    "        year(dep_datetime)\"\"\").show(4)\n",
    "\n",
    "print('SOMENTE DESTINO')\n",
    "spark.getOrCreate().sql(\"\"\"\n",
    "    select\n",
    "        region_dest as region,\n",
    "        year(dep_datetime) as year,\n",
    "        sum(dep_delay) as accumulated_delay\n",
    "    from \n",
    "        df_all_joins\n",
    "    group by\n",
    "        region_dest,\n",
    "        year(dep_datetime)\"\"\").show(4)\n",
    "\n",
    "print('ORIGEM - DESTINO')\n",
    "spark.getOrCreate().sql(\"\"\"\n",
    "    select\n",
    "        region_dest as region,\n",
    "        year(dep_datetime) as year,\n",
    "        (sum(arr_delay) + sum(dep_delay)) as accumulated_delay\n",
    "    from \n",
    "        df_all_joins\n",
    "    group by\n",
    "        region_dest,\n",
    "        year(dep_datetime)\"\"\").show(4)"
   ]
  },
  {
   "cell_type": "markdown",
   "id": "4c3a2abd",
   "metadata": {},
   "source": [
    "#### Pergunta 8"
   ]
  },
  {
   "cell_type": "code",
   "execution_count": 20,
   "id": "ffd0df68",
   "metadata": {},
   "outputs": [
    {
     "name": "stdout",
     "output_type": "stream",
     "text": [
      "+------------+\n",
      "|air_time_avg|\n",
      "+------------+\n",
      "|         153|\n",
      "+------------+\n",
      "\n"
     ]
    }
   ],
   "source": [
    "spark.getOrCreate().sql(\"\"\"\n",
    "    select\n",
    "        ceil(avg(air_time)) as air_time_avg\n",
    "    from \n",
    "        df_all_joins\"\"\").show(4)"
   ]
  },
  {
   "cell_type": "markdown",
   "id": "fe5b31a5",
   "metadata": {},
   "source": [
    "#### Pergunta 9"
   ]
  },
  {
   "cell_type": "code",
   "execution_count": 21,
   "id": "f47a167d",
   "metadata": {},
   "outputs": [
    {
     "name": "stdout",
     "output_type": "stream",
     "text": [
      "REGIÕES DE ORIGEM\n",
      "+-------------+------------+\n",
      "|       region|air_time_avg|\n",
      "+-------------+------------+\n",
      "|MAINLAND-WEST|         153|\n",
      "+-------------+------------+\n",
      "\n",
      "DESTINO\n",
      "+-------------+------------+\n",
      "|       region|air_time_avg|\n",
      "+-------------+------------+\n",
      "|       ALASKA|         228|\n",
      "|MAINLAND-EAST|         238|\n",
      "|MAINLAND-WEST|         116|\n",
      "+-------------+------------+\n",
      "\n"
     ]
    }
   ],
   "source": [
    "print('REGIÕES DE ORIGEM')\n",
    "spark.getOrCreate().sql(\"\"\"\n",
    "    select\n",
    "        region as region,\n",
    "        ceil(avg(air_time)) as air_time_avg\n",
    "    from \n",
    "        df_all_joins\n",
    "    group by \n",
    "        region\"\"\").show(4)\n",
    "\n",
    "print('DESTINO')\n",
    "spark.getOrCreate().sql(\"\"\"\n",
    "    select\n",
    "        region_dest as region,\n",
    "        ceil(avg(air_time)) as air_time_avg\n",
    "    from \n",
    "        df_all_joins\n",
    "    group by \n",
    "        region_dest\"\"\").show(4)"
   ]
  },
  {
   "cell_type": "markdown",
   "id": "93a6d02e",
   "metadata": {},
   "source": [
    "#### Pergunta 10"
   ]
  },
  {
   "cell_type": "code",
   "execution_count": 22,
   "id": "c9657d57",
   "metadata": {},
   "outputs": [
    {
     "name": "stdout",
     "output_type": "stream",
     "text": [
      "+------+----+------------+\n",
      "|origin|dest|air_time_avg|\n",
      "+------+----+------------+\n",
      "|   SEA| RNO|          75|\n",
      "|   SEA| DTW|         220|\n",
      "|   SEA| CLE|         234|\n",
      "|   SEA| LAX|         127|\n",
      "+------+----+------------+\n",
      "only showing top 4 rows\n",
      "\n"
     ]
    }
   ],
   "source": [
    "spark.getOrCreate().sql(\"\"\"\n",
    "    select\n",
    "        origin,\n",
    "        dest,\n",
    "        ceil(avg(air_time)) as air_time_avg\n",
    "    from \n",
    "        df_all_joins\n",
    "    group by \n",
    "        origin,\n",
    "        dest\"\"\").show(4)"
   ]
  },
  {
   "cell_type": "markdown",
   "id": "1506f6bb",
   "metadata": {},
   "source": [
    "#### Pergunta 11"
   ]
  },
  {
   "cell_type": "code",
   "execution_count": 23,
   "id": "78364e1e",
   "metadata": {},
   "outputs": [
    {
     "name": "stdout",
     "output_type": "stream",
     "text": [
      "+----+--------------------+\n",
      "|year|air_time_accumulated|\n",
      "+----+--------------------+\n",
      "|2014|             1528625|\n",
      "+----+--------------------+\n",
      "\n"
     ]
    }
   ],
   "source": [
    "spark.getOrCreate().sql(\"\"\"\n",
    "    select\n",
    "        year(dep_datetime) as year,\n",
    "        ceil(sum(air_time)) as air_time_accumulated\n",
    "    from \n",
    "        df_all_joins\n",
    "    group by \n",
    "        year(dep_datetime)\"\"\").show(4)"
   ]
  },
  {
   "cell_type": "markdown",
   "id": "3ba4f48d",
   "metadata": {},
   "source": [
    "#### Pergunta 12"
   ]
  },
  {
   "cell_type": "code",
   "execution_count": 24,
   "id": "d93ab215",
   "metadata": {},
   "outputs": [
    {
     "name": "stdout",
     "output_type": "stream",
     "text": [
      "ORIGEM\n",
      "+-------------+--------------------+\n",
      "|       region|air_time_accumulated|\n",
      "+-------------+--------------------+\n",
      "|MAINLAND-WEST|             1528625|\n",
      "+-------------+--------------------+\n",
      "\n",
      "DESTINO\n",
      "+-------------+--------------------+\n",
      "|       region|air_time_accumulated|\n",
      "+-------------+--------------------+\n",
      "|       ALASKA|              230602|\n",
      "|MAINLAND-EAST|              508344|\n",
      "|MAINLAND-WEST|              789679|\n",
      "+-------------+--------------------+\n",
      "\n"
     ]
    }
   ],
   "source": [
    "print('ORIGEM')\n",
    "spark.getOrCreate().sql(\"\"\"\n",
    "    select\n",
    "        region as region,\n",
    "        ceil(sum(air_time)) as air_time_accumulated\n",
    "    from \n",
    "        df_all_joins\n",
    "    group by \n",
    "        region\"\"\").show(4)\n",
    "\n",
    "print('DESTINO')\n",
    "spark.getOrCreate().sql(\"\"\"\n",
    "    select\n",
    "        region_dest as region,\n",
    "        ceil(sum(air_time)) as air_time_accumulated\n",
    "    from \n",
    "        df_all_joins\n",
    "    group by \n",
    "        region_dest\"\"\").show(4)"
   ]
  },
  {
   "cell_type": "markdown",
   "id": "9eb35300",
   "metadata": {},
   "source": [
    "#### Pergunta 13"
   ]
  },
  {
   "cell_type": "code",
   "execution_count": 25,
   "id": "e1a3b4ba",
   "metadata": {},
   "outputs": [
    {
     "name": "stdout",
     "output_type": "stream",
     "text": [
      "+------------+\n",
      "|distance_avg|\n",
      "+------------+\n",
      "|        1209|\n",
      "+------------+\n",
      "\n"
     ]
    }
   ],
   "source": [
    "spark.getOrCreate().sql(\"\"\"\n",
    "    select\n",
    "        ceil(avg(distance)) as distance_avg\n",
    "    from \n",
    "        df_all_joins\n",
    "    \"\"\").show(4)"
   ]
  },
  {
   "cell_type": "markdown",
   "id": "84b3e9b4",
   "metadata": {},
   "source": [
    "#### Pergunta 14"
   ]
  },
  {
   "cell_type": "code",
   "execution_count": 26,
   "id": "8b479c17",
   "metadata": {},
   "outputs": [
    {
     "name": "stdout",
     "output_type": "stream",
     "text": [
      "REGIÕES DE ORIGEM\n",
      "+-------------+------------+\n",
      "|       region|distance_avg|\n",
      "+-------------+------------+\n",
      "|MAINLAND-WEST|        1209|\n",
      "+-------------+------------+\n",
      "\n",
      "REGIÕES DE DESTINO\n",
      "+-------------+------------+\n",
      "|       region|distance_avg|\n",
      "+-------------+------------+\n",
      "|       ALASKA|        1742|\n",
      "|MAINLAND-EAST|        2043|\n",
      "|MAINLAND-WEST|         868|\n",
      "+-------------+------------+\n",
      "\n"
     ]
    }
   ],
   "source": [
    "print('REGIÕES DE ORIGEM')\n",
    "spark.getOrCreate().sql(\"\"\"\n",
    "    select\n",
    "        region as region,\n",
    "        ceil(avg(distance)) as distance_avg \n",
    "    from \n",
    "        df_all_joins\n",
    "    group by \n",
    "        region\n",
    "    \"\"\").show(4)\n",
    "\n",
    "print('REGIÕES DE DESTINO')\n",
    "spark.getOrCreate().sql(\"\"\"\n",
    "    select\n",
    "        region_dest as region,\n",
    "        ceil(avg(distance)) as distance_avg \n",
    "    from \n",
    "        df_all_joins\n",
    "    group by \n",
    "        region_dest\n",
    "    \"\"\").show(4)"
   ]
  },
  {
   "cell_type": "markdown",
   "id": "28bda97e",
   "metadata": {},
   "source": [
    "#### Pergunta 15"
   ]
  },
  {
   "cell_type": "code",
   "execution_count": 27,
   "id": "b12ba072",
   "metadata": {},
   "outputs": [
    {
     "name": "stdout",
     "output_type": "stream",
     "text": [
      "+------+----+------------+\n",
      "|origin|dest|distance_avg|\n",
      "+------+----+------------+\n",
      "|   SEA| RNO|         564|\n",
      "|   SEA| DTW|        1927|\n",
      "|   SEA| CLE|        2021|\n",
      "|   SEA| LAX|         954|\n",
      "+------+----+------------+\n",
      "only showing top 4 rows\n",
      "\n"
     ]
    }
   ],
   "source": [
    "spark.getOrCreate().sql(\"\"\"\n",
    "    select\n",
    "        origin,\n",
    "        dest,\n",
    "        ceil(avg(distance)) as distance_avg \n",
    "    from \n",
    "        df_all_joins\n",
    "    group by \n",
    "        origin,\n",
    "        dest\"\"\").show(4)"
   ]
  },
  {
   "cell_type": "markdown",
   "id": "bad78299",
   "metadata": {},
   "source": [
    "#### Pergunta 16"
   ]
  },
  {
   "cell_type": "code",
   "execution_count": 28,
   "id": "e6175ce6",
   "metadata": {},
   "outputs": [
    {
     "name": "stdout",
     "output_type": "stream",
     "text": [
      "+----+--------------------+\n",
      "|year|distance_accumulated|\n",
      "+----+--------------------+\n",
      "|2014|            12081516|\n",
      "+----+--------------------+\n",
      "\n"
     ]
    }
   ],
   "source": [
    "spark.getOrCreate().sql(\"\"\"\n",
    "    select\n",
    "        year(dep_datetime) as year,\n",
    "        ceil(sum(distance)) as distance_accumulated\n",
    "    from \n",
    "        df_all_joins\n",
    "    group by \n",
    "        year(dep_datetime)\"\"\").show(4)"
   ]
  },
  {
   "cell_type": "markdown",
   "id": "8ab27452",
   "metadata": {},
   "source": [
    "#### Pergunta 17"
   ]
  },
  {
   "cell_type": "code",
   "execution_count": 29,
   "id": "b6bc319b",
   "metadata": {},
   "outputs": [
    {
     "name": "stdout",
     "output_type": "stream",
     "text": [
      "REGIÕES DE ORIGEM\n",
      "+-------------+--------------------+\n",
      "|       region|distance_accumulated|\n",
      "+-------------+--------------------+\n",
      "|MAINLAND-WEST|            12081516|\n",
      "+-------------+--------------------+\n",
      "\n",
      "REGIÕES DE DESTINO\n",
      "+-------------+--------------------+\n",
      "|       region|distance_accumulated|\n",
      "+-------------+--------------------+\n",
      "|       ALASKA|             1762553|\n",
      "|MAINLAND-EAST|             4378902|\n",
      "|MAINLAND-WEST|             5940061|\n",
      "+-------------+--------------------+\n",
      "\n"
     ]
    }
   ],
   "source": [
    "print('REGIÕES DE ORIGEM')\n",
    "spark.getOrCreate().sql(\"\"\"\n",
    "    select\n",
    "        region as region,\n",
    "        ceil(sum(distance)) as distance_accumulated \n",
    "    from \n",
    "        df_all_joins\n",
    "    group by \n",
    "        region\n",
    "    \"\"\").show(4)\n",
    "\n",
    "print('REGIÕES DE DESTINO')\n",
    "spark.getOrCreate().sql(\"\"\"\n",
    "    select\n",
    "        region_dest as region,\n",
    "        ceil(sum(distance)) as distance_accumulated \n",
    "    from \n",
    "        df_all_joins\n",
    "    group by \n",
    "        region_dest\n",
    "    \"\"\").show(4)"
   ]
  },
  {
   "cell_type": "markdown",
   "id": "102ca5f7",
   "metadata": {},
   "source": [
    "#### Pergunta 18"
   ]
  },
  {
   "cell_type": "code",
   "execution_count": 30,
   "id": "9a86dd7a",
   "metadata": {},
   "outputs": [
    {
     "name": "stdout",
     "output_type": "stream",
     "text": [
      "+------+----+--------------+\n",
      "|origin|dest|passengers_avg|\n",
      "+------+----+--------------+\n",
      "|   SEA| RNO|           142|\n",
      "|   SEA| DTW|           213|\n",
      "|   SEA| CLE|           182|\n",
      "|   SEA| LAX|           155|\n",
      "+------+----+--------------+\n",
      "only showing top 4 rows\n",
      "\n"
     ]
    }
   ],
   "source": [
    "spark.getOrCreate().sql(\"\"\"\n",
    "    select\n",
    "        origin,\n",
    "        dest,\n",
    "        ceil(avg(seats)) as passengers_avg\n",
    "    from \n",
    "        df_all_joins\n",
    "    group by\n",
    "        origin,\n",
    "        dest\"\"\").show(4)"
   ]
  },
  {
   "cell_type": "markdown",
   "id": "b2d6fa50",
   "metadata": {},
   "source": [
    "#### Pergunta 19"
   ]
  },
  {
   "cell_type": "code",
   "execution_count": 31,
   "id": "f8c7f935",
   "metadata": {},
   "outputs": [
    {
     "name": "stdout",
     "output_type": "stream",
     "text": [
      "+----+-----------------+\n",
      "|year|seats_accumulated|\n",
      "+----+-----------------+\n",
      "|2014|          1509544|\n",
      "+----+-----------------+\n",
      "\n"
     ]
    }
   ],
   "source": [
    "spark.getOrCreate().sql(\"\"\"\n",
    "    select\n",
    "        year(dep_datetime) as year,\n",
    "        ceil(sum(seats)) as seats_accumulated\n",
    "    from\n",
    "        df_all_joins\n",
    "    group by \n",
    "        year(dep_datetime)\"\"\").show(4)"
   ]
  },
  {
   "cell_type": "markdown",
   "id": "f141f227",
   "metadata": {},
   "source": [
    "#### Pergunta 20"
   ]
  },
  {
   "cell_type": "code",
   "execution_count": 32,
   "id": "ef6dd11a",
   "metadata": {},
   "outputs": [
    {
     "name": "stdout",
     "output_type": "stream",
     "text": [
      "+----+-----------------+\n",
      "|dest|most_popular_dest|\n",
      "+----+-----------------+\n",
      "| SFO|              787|\n",
      "| LAX|              615|\n",
      "| DEN|              586|\n",
      "| PHX|              530|\n",
      "+----+-----------------+\n",
      "only showing top 4 rows\n",
      "\n"
     ]
    }
   ],
   "source": [
    "spark.getOrCreate().sql(\"\"\"\n",
    "    select\n",
    "        dest,\n",
    "        count(dest) as most_popular_dest\n",
    "    from \n",
    "        df_all_joins\n",
    "    group by \n",
    "        dest\n",
    "    order by \n",
    "        count(dest) desc\"\"\").show(4)"
   ]
  },
  {
   "cell_type": "markdown",
   "id": "a58baa68",
   "metadata": {},
   "source": [
    "#### Pergunta 21"
   ]
  },
  {
   "cell_type": "code",
   "execution_count": 33,
   "id": "a7685b89",
   "metadata": {},
   "outputs": [
    {
     "name": "stdout",
     "output_type": "stream",
     "text": [
      "+----+--------------------+\n",
      "|dest|dest_most_passengers|\n",
      "+----+--------------------+\n",
      "| SFO|              119635|\n",
      "| PHX|               96317|\n",
      "| LAX|               91406|\n",
      "| DEN|               88218|\n",
      "+----+--------------------+\n",
      "only showing top 4 rows\n",
      "\n"
     ]
    }
   ],
   "source": [
    "spark.getOrCreate().sql(\"\"\"\n",
    "    select\n",
    "        dest,\n",
    "        sum(seats) as dest_most_passengers\n",
    "    from \n",
    "        df_all_joins\n",
    "    group by \n",
    "        dest\n",
    "    order by \n",
    "        sum(seats) desc\"\"\").show(4)"
   ]
  },
  {
   "cell_type": "markdown",
   "id": "e6428c0a",
   "metadata": {},
   "source": [
    "#### Pergunta 22"
   ]
  },
  {
   "cell_type": "code",
   "execution_count": 34,
   "id": "d1339f73",
   "metadata": {},
   "outputs": [
    {
     "name": "stdout",
     "output_type": "stream",
     "text": [
      "+------+----+--------+\n",
      "|origin|dest|distance|\n",
      "+------+----+--------+\n",
      "|   PDX| LIH|    2631|\n",
      "|   PDX| KOA|    2607|\n",
      "|   PDX| HNL|    2603|\n",
      "|   PDX| OGG|    2562|\n",
      "+------+----+--------+\n",
      "only showing top 4 rows\n",
      "\n"
     ]
    }
   ],
   "source": [
    "spark.getOrCreate().sql(\"\"\"\n",
    "    select\n",
    "        distinct origin,\n",
    "        dest,\n",
    "        distance\n",
    "    from \n",
    "        df_all_joins\n",
    "    where \n",
    "        origin == 'PDX' or \n",
    "        dest == 'PDX'\n",
    "    order by \n",
    "        distance desc\"\"\").show(4)"
   ]
  },
  {
   "cell_type": "markdown",
   "id": "58638f41",
   "metadata": {},
   "source": [
    "#### Pergunta 23"
   ]
  },
  {
   "cell_type": "code",
   "execution_count": 54,
   "id": "fa060ded",
   "metadata": {},
   "outputs": [
    {
     "name": "stdout",
     "output_type": "stream",
     "text": [
      "+-----+----+------------+\n",
      "|month|dest|flights_qtty|\n",
      "+-----+----+------------+\n",
      "|    5| LAX|          77|\n",
      "|   12| SFO|          76|\n",
      "|    8| SFO|          75|\n",
      "|    5| SFO|          73|\n",
      "+-----+----+------------+\n",
      "only showing top 4 rows\n",
      "\n"
     ]
    }
   ],
   "source": [
    "# Essa parece estar errada a respota;\n",
    "# Parece que a resposta seria trazer em cada mês o destino que teve mais voos;\n",
    "spark.getOrCreate().sql(\"\"\"\n",
    "    select\n",
    "        month(dep_datetime) as month,\n",
    "        dest,\n",
    "        count(flight) as flights_qtty\n",
    "    from \n",
    "        df_all_joins\n",
    "    group by\n",
    "        month(dep_datetime),\n",
    "        dest\n",
    "    order by \n",
    "        count(flight) desc\"\"\").show(4)"
   ]
  },
  {
   "cell_type": "markdown",
   "id": "60ea3022",
   "metadata": {},
   "source": [
    "#### Pergunta 24"
   ]
  },
  {
   "cell_type": "code",
   "execution_count": 36,
   "id": "a1be14ef",
   "metadata": {},
   "outputs": [
    {
     "name": "stdout",
     "output_type": "stream",
     "text": [
      "+---------+-----------+\n",
      "|    model|models_qtty|\n",
      "+---------+-----------+\n",
      "|  737-890|       1463|\n",
      "|  737-7H4|        851|\n",
      "|737-990ER|        664|\n",
      "| A320-232|        612|\n",
      "+---------+-----------+\n",
      "only showing top 4 rows\n",
      "\n"
     ]
    }
   ],
   "source": [
    "spark.getOrCreate().sql(\"\"\"\n",
    "    select\n",
    "        model,\n",
    "        count(model) as models_qtty\n",
    "    from \n",
    "        df_all_joins\n",
    "    group by \n",
    "        model\n",
    "    order by \n",
    "        count(model) desc\"\"\").show(4)"
   ]
  },
  {
   "cell_type": "markdown",
   "id": "9cbcfc1c",
   "metadata": {},
   "source": [
    "#### Pergunta 25"
   ]
  },
  {
   "cell_type": "code",
   "execution_count": 37,
   "id": "226e5dc1",
   "metadata": {},
   "outputs": [
    {
     "name": "stdout",
     "output_type": "stream",
     "text": [
      "+-------+----+-----------+\n",
      "|  model|dest|models_qtty|\n",
      "+-------+----+-----------+\n",
      "|737-7H4| OAK|        141|\n",
      "|737-890| ANC|        138|\n",
      "|737-790| SNA|        122|\n",
      "|737-7H4| SMF|        114|\n",
      "+-------+----+-----------+\n",
      "only showing top 4 rows\n",
      "\n"
     ]
    }
   ],
   "source": [
    "spark.getOrCreate().sql(\"\"\"\n",
    "    select\n",
    "        model,\n",
    "        dest,\n",
    "        count(model) models_qtty\n",
    "    from \n",
    "        df_all_joins\n",
    "    group by \n",
    "        dest, \n",
    "        model\n",
    "    order by \n",
    "        count(model) desc\"\"\").show(4)"
   ]
  },
  {
   "cell_type": "markdown",
   "id": "902f3409",
   "metadata": {},
   "source": [
    "#### Pergunta 26"
   ]
  },
  {
   "cell_type": "code",
   "execution_count": 38,
   "id": "18536731",
   "metadata": {},
   "outputs": [
    {
     "name": "stdout",
     "output_type": "stream",
     "text": [
      "+-------------+-----------+\n",
      "|haul_duration|engines_avg|\n",
      "+-------------+-----------+\n",
      "|    LONG-HAUL|          2|\n",
      "|  MEDIUM-HAUL|          2|\n",
      "|   SHORT-HAUL|          2|\n",
      "+-------------+-----------+\n",
      "\n"
     ]
    }
   ],
   "source": [
    "spark.getOrCreate().sql(\"\"\"\n",
    "    select\n",
    "        haul_duration,\n",
    "        ceil(avg(engines)) as engines_avg\n",
    "    from \n",
    "        df_all_joins\n",
    "    group by \n",
    "        haul_duration\"\"\").show(4)"
   ]
  },
  {
   "cell_type": "markdown",
   "id": "6fcf0d99",
   "metadata": {},
   "source": [
    "#### Pergunta 27"
   ]
  },
  {
   "cell_type": "code",
   "execution_count": 39,
   "id": "7dcecfe3",
   "metadata": {},
   "outputs": [
    {
     "name": "stdout",
     "output_type": "stream",
     "text": [
      "+----------+----------+\n",
      "|dep_season|dep_season|\n",
      "+----------+----------+\n",
      "|    SUMMER|      2918|\n",
      "|    SPRING|      2560|\n",
      "|      FALL|      2373|\n",
      "|    WINTER|      2149|\n",
      "+----------+----------+\n",
      "\n"
     ]
    }
   ],
   "source": [
    "spark.getOrCreate().sql(\"\"\"\n",
    "    select\n",
    "        dep_season,\n",
    "        count(dep_season) as dep_season\n",
    "    from \n",
    "        df_all_joins\n",
    "    group by\n",
    "        dep_season\n",
    "    order by\n",
    "        count(dep_season) desc\"\"\").show(4)"
   ]
  },
  {
   "cell_type": "markdown",
   "id": "1d28ac9c",
   "metadata": {},
   "source": [
    "#### Pergunta 28"
   ]
  },
  {
   "cell_type": "code",
   "execution_count": 40,
   "id": "8dbe472f",
   "metadata": {},
   "outputs": [
    {
     "name": "stdout",
     "output_type": "stream",
     "text": [
      "+----------+----+----------+\n",
      "|dep_season|dest|dep_season|\n",
      "+----------+----+----------+\n",
      "|    SUMMER| SFO|       217|\n",
      "|    SPRING| SFO|       199|\n",
      "|      FALL| SFO|       198|\n",
      "|    SPRING| LAX|       176|\n",
      "+----------+----+----------+\n",
      "only showing top 4 rows\n",
      "\n"
     ]
    }
   ],
   "source": [
    "spark.getOrCreate().sql(\"\"\"\n",
    "    select\n",
    "        dep_season,\n",
    "        dest,\n",
    "        count(dep_season) as dep_season\n",
    "    from \n",
    "        df_all_joins\n",
    "    group by\n",
    "        dep_season,\n",
    "        dest\n",
    "    order by\n",
    "        count(dep_season) desc\"\"\").show(4)"
   ]
  },
  {
   "cell_type": "markdown",
   "id": "21f43173",
   "metadata": {},
   "source": [
    "#### Pergunta 29"
   ]
  },
  {
   "cell_type": "code",
   "execution_count": 41,
   "id": "fa8f7f3c",
   "metadata": {},
   "outputs": [
    {
     "name": "stdout",
     "output_type": "stream",
     "text": [
      "+------------------+-------------+\n",
      "|dep_delay_category|category_qtty|\n",
      "+------------------+-------------+\n",
      "|       ANTECIPATED|         5894|\n",
      "|             MINOR|         3065|\n",
      "|            INTIME|          646|\n",
      "|             MAJOR|          395|\n",
      "+------------------+-------------+\n",
      "\n"
     ]
    }
   ],
   "source": [
    "spark.getOrCreate().sql(\"\"\"\n",
    "    select\n",
    "        dep_delay_category,\n",
    "        count(dep_delay_category) category_qtty\n",
    "    from \n",
    "        df_all_joins\n",
    "    group by\n",
    "        dep_delay_category\n",
    "    order by\n",
    "        count(dep_delay_category) desc\"\"\").show(4)"
   ]
  },
  {
   "cell_type": "markdown",
   "id": "86d35ed6",
   "metadata": {},
   "source": [
    "#### Pergunta 30"
   ]
  },
  {
   "cell_type": "code",
   "execution_count": 42,
   "id": "52ca3544",
   "metadata": {},
   "outputs": [
    {
     "name": "stdout",
     "output_type": "stream",
     "text": [
      "+------+----+------------------+-------------+\n",
      "|origin|dest|dep_delay_category|category_qtty|\n",
      "+------+----+------------------+-------------+\n",
      "|   SEA| LAX|       ANTECIPATED|          293|\n",
      "|   SEA| SFO|       ANTECIPATED|          245|\n",
      "|   SEA| LAS|       ANTECIPATED|          228|\n",
      "|   SEA| PHX|       ANTECIPATED|          195|\n",
      "+------+----+------------------+-------------+\n",
      "only showing top 4 rows\n",
      "\n"
     ]
    }
   ],
   "source": [
    "spark.getOrCreate().sql(\"\"\"\n",
    "    select\n",
    "        origin,\n",
    "        dest,\n",
    "        dep_delay_category,\n",
    "        count(dep_delay_category) category_qtty\n",
    "    from \n",
    "        df_all_joins\n",
    "    group by\n",
    "        origin,\n",
    "        dest,\n",
    "        dep_delay_category\n",
    "    order by\n",
    "        count(dep_delay_category) desc\"\"\").show(4)"
   ]
  }
 ],
 "metadata": {
  "kernelspec": {
   "display_name": "Python 3 (ipykernel)",
   "language": "python",
   "name": "python3"
  },
  "language_info": {
   "codemirror_mode": {
    "name": "ipython",
    "version": 3
   },
   "file_extension": ".py",
   "mimetype": "text/x-python",
   "name": "python",
   "nbconvert_exporter": "python",
   "pygments_lexer": "ipython3",
   "version": "3.9.7"
  }
 },
 "nbformat": 4,
 "nbformat_minor": 5
}
