{
 "cells": [
  {
   "cell_type": "code",
   "execution_count": 1,
   "id": "542f4d40",
   "metadata": {},
   "outputs": [
    {
     "name": "stdout",
     "output_type": "stream",
     "text": [
      "Requirement already satisfied: pyspark in c:\\users\\macalbuq\\anaconda3\\lib\\site-packages (3.2.1)\n",
      "Requirement already satisfied: py4j==0.10.9.3 in c:\\users\\macalbuq\\anaconda3\\lib\\site-packages (from pyspark) (0.10.9.3)\n",
      "Requirement already satisfied: findspark in c:\\users\\macalbuq\\anaconda3\\lib\\site-packages (2.0.1)\n"
     ]
    }
   ],
   "source": [
    "!pip install pyspark\n",
    "!pip install findspark"
   ]
  },
  {
   "cell_type": "code",
   "execution_count": 1,
   "id": "941460a4",
   "metadata": {},
   "outputs": [],
   "source": [
    "import findspark\n",
    "findspark.init()\n",
    "import re\n",
    "from pyspark import SparkContext, SparkConf\n",
    "from pyspark.sql import SparkSession\n",
    "from pyspark.sql import functions as F\n",
    "from pyspark.sql.types import StructType, StructField, StringType, IntegerType, FloatType\n",
    "from pyspark.sql import Window\n",
    "from pyspark.sql.functions import rank\n",
    "from datetime import datetime"
   ]
  },
  {
   "cell_type": "code",
   "execution_count": 2,
   "id": "1931de0a",
   "metadata": {},
   "outputs": [],
   "source": [
    "# Expressoes regulares comuns\n",
    "REGEX_ALPHA    = r'[a-zA-Z]+'\n",
    "REGEX_INTEGER  = r'[0-9]+'\n",
    "REGEX_FLOAT    = r'[0-9]+\\.[0-9]+'\n",
    "REGEX_ALPHANUM = r'[0-9a-zA-Z]+'\n",
    "REGEX_EMPTY_STR= r'[\\t ]+$'\n",
    "REGEX_SPECIAL  = r'[!@#$%&*\\(\\)_]+'\n",
    "REGEX_NNUMBER  = r'^N[1-9][0-9]{2,3}([ABCDEFGHJKLMNPRSTUVXWYZ]{1,2})'\n",
    "REGEX_NNUMBER_INVALID = r'(N0.*$)|(.*[IO].*)'\n",
    "REGEX_TIME_FMT = r'^(([0-1]?[0-9])|(2[0-3]))([0-5][0-9])$'"
   ]
  },
  {
   "cell_type": "code",
   "execution_count": 3,
   "id": "d9df4795",
   "metadata": {},
   "outputs": [],
   "source": [
    "# Variaveis de data\n",
    "current_year = datetime.today().strftime('%Y')"
   ]
  },
  {
   "cell_type": "code",
   "execution_count": 4,
   "id": "a741ae84",
   "metadata": {},
   "outputs": [],
   "source": [
    "# Criar o contexto do spark\n",
    "sc = SparkContext()\n",
    "\n",
    "# Instancia o criador de sessao do spark\n",
    "spark = (SparkSession.builder\n",
    "                     .master(\"local[7]\")\n",
    "                     .appName(\"Aceleração PySpark - Capgemini\"))"
   ]
  },
  {
   "cell_type": "code",
   "execution_count": 5,
   "id": "54ecab27",
   "metadata": {},
   "outputs": [],
   "source": [
    "schema_airports = StructType([\n",
    "    StructField(\"faa\",  StringType(),  True),\n",
    "    StructField(\"name\", StringType(),  True),\n",
    "    StructField(\"lat\",  FloatType(),   True),\n",
    "    StructField(\"lon\",  FloatType(),   True),\n",
    "    StructField(\"alt\",  IntegerType(), True),\n",
    "    StructField(\"tz\",   IntegerType(), True),\n",
    "    StructField(\"dst\",  StringType(),  True)\n",
    "])\n",
    "\n",
    "schema_planes = StructType([\n",
    "    StructField(\"tailnum\",      StringType(),  True),\n",
    "    StructField(\"year\",         IntegerType(), True),\n",
    "    StructField(\"type\",         StringType(),  True),\n",
    "    StructField(\"manufacturer\", StringType(),  True),\n",
    "    StructField(\"model\",        StringType(),  True),\n",
    "    StructField(\"engines\",      IntegerType(), True),\n",
    "    StructField(\"seats\",        IntegerType(), True),\n",
    "    StructField(\"speed\",        IntegerType(), True),\n",
    "    StructField(\"engine\",       StringType(),  True)\n",
    "])\n",
    "\n",
    "schema_flights = StructType([\n",
    "    StructField(\"year\",      IntegerType(), True),\n",
    "    StructField(\"month\",     IntegerType(), True),\n",
    "    StructField(\"day\",       IntegerType(), True),\n",
    "    StructField(\"dep_time\",  StringType(),  True),\n",
    "    StructField(\"dep_delay\", IntegerType(), True),\n",
    "    StructField(\"arr_time\",  StringType(),  True),\n",
    "    StructField(\"arr_delay\", IntegerType(), True),\n",
    "    StructField(\"carrier\",   StringType(),  True),\n",
    "    StructField(\"tailnum\",   StringType(),  True),\n",
    "    StructField(\"flight\",    StringType(),  True),\n",
    "    StructField(\"origin\",    StringType(),  True),\n",
    "    StructField(\"dest\",      StringType(),  True),\n",
    "    StructField(\"air_time\",  IntegerType(), True),\n",
    "    StructField(\"distance\",  IntegerType(), True),\n",
    "    StructField(\"hour\",      IntegerType(), True),\n",
    "    StructField(\"minute\",    IntegerType(), True),\n",
    "])"
   ]
  },
  {
   "cell_type": "code",
   "execution_count": 6,
   "id": "55471e48",
   "metadata": {},
   "outputs": [],
   "source": [
    "df_airports = (spark.getOrCreate().read\n",
    "                  .format(\"csv\")\n",
    "                  .option(\"header\", \"true\")\n",
    "                  .schema(schema_airports)\n",
    "                  .load(\"Datasets/airports.csv\"))\n",
    "\n",
    "df_planes = (spark.getOrCreate().read\n",
    "                  .format(\"csv\")\n",
    "                  .option(\"header\", \"true\")\n",
    "                  .schema(schema_planes)\n",
    "                  .load(\"Datasets/planes.csv\"))\n",
    "\n",
    "df_flights = (spark.getOrCreate().read\n",
    "                  .format(\"csv\")\n",
    "                  .option(\"header\", \"true\")\n",
    "                  .schema(schema_flights)\n",
    "                  .load(\"Datasets/flights.csv\"))"
   ]
  },
  {
   "cell_type": "code",
   "execution_count": 7,
   "id": "d16a1866",
   "metadata": {},
   "outputs": [
    {
     "name": "stdout",
     "output_type": "stream",
     "text": [
      "+---+--------------------+---------+---------+----+---+---+\n",
      "|faa|                name|      lat|      lon| alt| tz|dst|\n",
      "+---+--------------------+---------+---------+----+---+---+\n",
      "|04G|   Lansdowne Airport|41.130474|-80.61958|1044| -5|  A|\n",
      "|06A|Moton Field Munic...| 32.46057|-85.68003| 264| -5|  A|\n",
      "|06C| Schaumburg Regional| 41.98934|-88.10124| 801| -6|  A|\n",
      "|06N|     Randall Airport| 41.43191|-74.39156| 523| -5|  A|\n",
      "|09J|Jekyll Island Air...|31.074472|-81.42778|  11| -4|  A|\n",
      "+---+--------------------+---------+---------+----+---+---+\n",
      "only showing top 5 rows\n",
      "\n"
     ]
    }
   ],
   "source": [
    "df_airports.show(5)"
   ]
  },
  {
   "cell_type": "markdown",
   "id": "4dffd5c1",
   "metadata": {},
   "source": [
    "## Airports Dataset"
   ]
  },
  {
   "cell_type": "markdown",
   "id": "485a95bd",
   "metadata": {},
   "source": [
    "### Pergunta 1"
   ]
  },
  {
   "cell_type": "code",
   "execution_count": 21,
   "id": "c12138f9",
   "metadata": {},
   "outputs": [
    {
     "name": "stdout",
     "output_type": "stream",
     "text": [
      "+---+--------------------+---------+---------+----+---+---+\n",
      "|faa|                name|      lat|      lon| alt| tz|dst|\n",
      "+---+--------------------+---------+---------+----+---+---+\n",
      "|04G|   Lansdowne Airport|41.130474|-80.61958|1044| -5|  A|\n",
      "|06A|Moton Field Munic...| 32.46057|-85.68003| 264| -5|  A|\n",
      "|06C| Schaumburg Regional| 41.98934|-88.10124| 801| -6|  A|\n",
      "|06N|     Randall Airport| 41.43191|-74.39156| 523| -5|  A|\n",
      "|09J|Jekyll Island Air...|31.074472|-81.42778|  11| -4| -4|\n",
      "+---+--------------------+---------+---------+----+---+---+\n",
      "only showing top 5 rows\n",
      "\n"
     ]
    }
   ],
   "source": [
    "df_airports = df_airports.select(\n",
    "                            'faa', \n",
    "                            'name', \n",
    "                            'lat', \n",
    "                            'lon', \n",
    "                            (F.when(\n",
    "                                F.col('alt') < 0, 0)\n",
    "                                 .otherwise(F.col('alt'))\n",
    "                                 .alias('alt')), \n",
    "                            'tz', \n",
    "                            'dst')\n",
    "\n",
    "df_airports.show(5)"
   ]
  },
  {
   "cell_type": "markdown",
   "id": "ef237ab6",
   "metadata": {},
   "source": [
    "### Pergunta 2"
   ]
  },
  {
   "cell_type": "code",
   "execution_count": 9,
   "id": "1364f4fa",
   "metadata": {},
   "outputs": [
    {
     "name": "stdout",
     "output_type": "stream",
     "text": [
      "+---+--------------------+---------+---------+----+---+---+\n",
      "|faa|                name|      lat|      lon| alt| tz|dst|\n",
      "+---+--------------------+---------+---------+----+---+---+\n",
      "|04G|   Lansdowne Airport|41.130474|-80.61958|1044| -5|  A|\n",
      "|06A|Moton Field Munic...| 32.46057|-85.68003| 264| -5|  A|\n",
      "|06C| Schaumburg Regional| 41.98934|-88.10124| 801| -6|  A|\n",
      "|06N|     Randall Airport| 41.43191|-74.39156| 523| -5|  A|\n",
      "|09J|Jekyll Island Air...|31.074472|-81.42778|  11| -4| -4|\n",
      "+---+--------------------+---------+---------+----+---+---+\n",
      "only showing top 5 rows\n",
      "\n"
     ]
    }
   ],
   "source": [
    "\n",
    "df_airports = df_airports.select(\n",
    "                                'faa', \n",
    "                                'name', \n",
    "                                'lat', \n",
    "                                'lon', \n",
    "                                'alt',\n",
    "                                'tz',\n",
    "                                (F.when(\n",
    "                                    F.col('tz')\n",
    "                                     .between(-7, -5), 'A')\n",
    "                                     .otherwise(F.col('tz')).alias('dst'))\n",
    "                                )\n",
    "\n",
    "df_airports.show(5)"
   ]
  },
  {
   "cell_type": "markdown",
   "id": "64fc7dc3",
   "metadata": {},
   "source": [
    "### Pergunta 3"
   ]
  },
  {
   "cell_type": "code",
   "execution_count": 19,
   "id": "67b09034",
   "metadata": {},
   "outputs": [
    {
     "name": "stdout",
     "output_type": "stream",
     "text": [
      "+---+--------------------+---------+---------+----+---+---+\n",
      "|faa|                name|      lat|      lon| alt| tz|dst|\n",
      "+---+--------------------+---------+---------+----+---+---+\n",
      "|04G|   Lansdowne Airport|41.130474|-80.61958|1044| -5|  A|\n",
      "|06A|Moton Field Munic...| 32.46057|-85.68003| 264| -5|  A|\n",
      "|06C| Schaumburg Regional| 41.98934|-88.10124| 801| -6|  A|\n",
      "|06N|     Randall Airport| 41.43191|-74.39156| 523| -5|  A|\n",
      "|09J|Jekyll Island Air...|31.074472|-81.42778|  11| -4| -4|\n",
      "+---+--------------------+---------+---------+----+---+---+\n",
      "only showing top 5 rows\n",
      "\n"
     ]
    }
   ],
   "source": [
    "df_airports = df_airports.select(\n",
    "                            'faa', \n",
    "                            'name', \n",
    "                            'lat', \n",
    "                            'lon', \n",
    "                            'alt', \n",
    "                            'tz', \n",
    "                            (F.when(\n",
    "                                F.col('dst') == 'U', 'A')\n",
    "                                 .otherwise(F.col('dst'))\n",
    "                                 .alias('dst')))\n",
    "\n",
    "df_airports.show(5)"
   ]
  },
  {
   "cell_type": "markdown",
   "id": "e58fa19b",
   "metadata": {},
   "source": [
    "### Pergunta 4"
   ]
  },
  {
   "cell_type": "code",
   "execution_count": 22,
   "id": "1750593a",
   "metadata": {},
   "outputs": [
    {
     "name": "stdout",
     "output_type": "stream",
     "text": [
      "+---+--------------------+---------+---------+----+---+---+--------+\n",
      "|faa|                name|      lat|      lon| alt| tz|dst|  region|\n",
      "+---+--------------------+---------+---------+----+---+---+--------+\n",
      "|04G|   Lansdowne Airport|41.130474|-80.61958|1044| -5|  A|OFFSHORE|\n",
      "|06A|Moton Field Munic...| 32.46057|-85.68003| 264| -5|  A|OFFSHORE|\n",
      "|06C| Schaumburg Regional| 41.98934|-88.10124| 801| -6|  A|OFFSHORE|\n",
      "|06N|     Randall Airport| 41.43191|-74.39156| 523| -5|  A|OFFSHORE|\n",
      "|09J|Jekyll Island Air...|31.074472|-81.42778|  11| -4| -4|OFFSHORE|\n",
      "+---+--------------------+---------+---------+----+---+---+--------+\n",
      "only showing top 5 rows\n",
      "\n"
     ]
    }
   ],
   "source": [
    "df_airports = df_airports.withColumn('region', (\n",
    "                                        F.when((F.col('lon') < -124), 'ALASKA')\n",
    "                                         .when((F.col('lon') > -50) | (F.col('lon') < 24), 'OFFSHORE')\n",
    "                                         .when((F.col('lon') <= -95) & (F.col('lon').between(-124, -50)), 'MAINLAND-WEST')\n",
    "                                         .when((F.col('lon') > -95) & (F.col('lon').between(-124, -50)), 'MAINLAND-EAST')\n",
    "                                        ).otherwise('NaN'))\n",
    "\n",
    "df_airports.show(5)"
   ]
  },
  {
   "cell_type": "markdown",
   "id": "fc4b59c7",
   "metadata": {},
   "source": [
    "### Pergunta 5"
   ]
  },
  {
   "cell_type": "code",
   "execution_count": 23,
   "id": "304f8cc6",
   "metadata": {
    "scrolled": true
   },
   "outputs": [
    {
     "name": "stdout",
     "output_type": "stream",
     "text": [
      "+---+--------------------+---------+---------+----+---+---+--------+----+\n",
      "|faa|                name|      lat|      lon| alt| tz|dst|  region|type|\n",
      "+---+--------------------+---------+---------+----+---+---+--------+----+\n",
      "|04G|   Lansdowne Airport|41.130474|-80.61958|1044| -5|  A|OFFSHORE|  AP|\n",
      "|06A|Moton Field Munic...| 32.46057|-85.68003| 264| -5|  A|OFFSHORE|  AP|\n",
      "|06C| Schaumburg Regional| 41.98934|-88.10124| 801| -6|  A|OFFSHORE| NaN|\n",
      "|06N|     Randall Airport| 41.43191|-74.39156| 523| -5|  A|OFFSHORE|  AP|\n",
      "|09J|Jekyll Island Air...|31.074472|-81.42778|  11| -4| -4|OFFSHORE|  AP|\n",
      "+---+--------------------+---------+---------+----+---+---+--------+----+\n",
      "only showing top 5 rows\n",
      "\n"
     ]
    }
   ],
   "source": [
    "REGEX_AP_CATEGORY = '.*Airport*|.*Tradeport*|.*Heliport*|.*Airpor*|.*Arpt*'\n",
    "REGEX_AD_CATEGORY = '.*Aerodrome*'\n",
    "REGEX_AK_CATEGORY = '.*Airpark*|.*Aero Park*'\n",
    "REGEX_AS_CATEGORY = '.*Station*|.*Air Station*'\n",
    "REGEX_FL_CATEGORY = '.*Field*|.*Fld*'\n",
    "\n",
    "df_airports = df_airports.withColumn('type', (\n",
    "                                        F.when(F.col('name').rlike(REGEX_AP_CATEGORY), 'AP')\n",
    "                                         .when(F.col('name').rlike(REGEX_AD_CATEGORY), 'AD')\n",
    "                                         .when(F.col('name').rlike(REGEX_AK_CATEGORY), 'AK')\n",
    "                                         .when(F.col('name').rlike(REGEX_AS_CATEGORY), 'AS')\n",
    "                                         .when(F.col('name').rlike(REGEX_FL_CATEGORY), 'FL')\n",
    "                                        ).otherwise('NaN'))\n",
    "\n",
    "df_airports.show(5)"
   ]
  },
  {
   "cell_type": "markdown",
   "id": "033c85c5",
   "metadata": {},
   "source": [
    "### Pergunta 6"
   ]
  },
  {
   "cell_type": "code",
   "execution_count": 24,
   "id": "56a053af",
   "metadata": {},
   "outputs": [
    {
     "name": "stdout",
     "output_type": "stream",
     "text": [
      "+---+--------------------+---------+---------+----+---+---+--------+----+--------+\n",
      "|faa|                name|      lat|      lon| alt| tz|dst|  region|type|military|\n",
      "+---+--------------------+---------+---------+----+---+---+--------+----+--------+\n",
      "|04G|   Lansdowne Airport|41.130474|-80.61958|1044| -5|  A|OFFSHORE|  AP|   false|\n",
      "|06A|Moton Field Munic...| 32.46057|-85.68003| 264| -5|  A|OFFSHORE|  AP|   false|\n",
      "|06C| Schaumburg Regional| 41.98934|-88.10124| 801| -6|  A|OFFSHORE| NaN|   false|\n",
      "|06N|     Randall Airport| 41.43191|-74.39156| 523| -5|  A|OFFSHORE|  AP|   false|\n",
      "|09J|Jekyll Island Air...|31.074472|-81.42778|  11| -4| -4|OFFSHORE|  AP|   false|\n",
      "+---+--------------------+---------+---------+----+---+---+--------+----+--------+\n",
      "only showing top 5 rows\n",
      "\n"
     ]
    }
   ],
   "source": [
    "MILITARY_SUBSTRINGS = [\n",
    "    \"Base\", \n",
    "    \"Aaf\", \n",
    "    \"AFs\", \n",
    "    \"Ahp\", \n",
    "    \"Afb\", \n",
    "    \"LRRS\", \n",
    "    \"Lrrs\", \n",
    "    \"Arb\", \n",
    "    \"Naf\", \n",
    "    \"NAS\", \n",
    "    \"Nas\", \n",
    "    \"Jrb\", \n",
    "    \"Ns\", \n",
    "    \"As\", \n",
    "    \"Cgas\", \n",
    "    \"Angb\"\n",
    "]\n",
    "\n",
    "REGEX_MILITARY = r'|'.join(map(lambda x : f\".*(^| ){x}($| ).*\", MILITARY_SUBSTRINGS))\n",
    "\n",
    "df_airports = df_airports.withColumn('military', (\n",
    "                                        F.when(F.col('name').rlike(REGEX_MILITARY), True)\n",
    "                                        ).otherwise(False))\n",
    "\n",
    "df_airports.show(5)"
   ]
  },
  {
   "cell_type": "markdown",
   "id": "7225fde2",
   "metadata": {},
   "source": [
    "### Pergunta 7"
   ]
  },
  {
   "cell_type": "code",
   "execution_count": 25,
   "id": "08a84c86",
   "metadata": {},
   "outputs": [
    {
     "name": "stdout",
     "output_type": "stream",
     "text": [
      "+---+--------------------+---------+---------+----+---+---+--------+----+--------+--------------+\n",
      "|faa|                name|      lat|      lon| alt| tz|dst|  region|type|military|administration|\n",
      "+---+--------------------+---------+---------+----+---+---+--------+----+--------+--------------+\n",
      "|04G|   Lansdowne Airport|41.130474|-80.61958|1044| -5|  A|OFFSHORE|  AP|   false|           NaN|\n",
      "|06A|Moton Field Munic...| 32.46057|-85.68003| 264| -5|  A|OFFSHORE|  AP|   false|             M|\n",
      "|06C| Schaumburg Regional| 41.98934|-88.10124| 801| -6|  A|OFFSHORE| NaN|   false|             R|\n",
      "|06N|     Randall Airport| 41.43191|-74.39156| 523| -5|  A|OFFSHORE|  AP|   false|           NaN|\n",
      "|09J|Jekyll Island Air...|31.074472|-81.42778|  11| -4| -4|OFFSHORE|  AP|   false|           NaN|\n",
      "+---+--------------------+---------+---------+----+---+---+--------+----+--------+--------------+\n",
      "only showing top 5 rows\n",
      "\n"
     ]
    }
   ],
   "source": [
    "REGEX_I_SUBS = '.*International*|.*Intl*|.*Intercontinental*'\n",
    "REGEX_N_SUBS = '.*National*|.*Natl*'\n",
    "REGEX_R_SUBS = '.*Regional*|.*Reigonal*|.*Rgnl*|.*County*|.*Metro*|.*Metropolitan*'\n",
    "REGEX_M_SUBS = '.*Municipal*|.*Muni*|.*City*'\n",
    "\n",
    "df_airports = df_airports.withColumn('administration', (\n",
    "                                        F.when(F.col('name').rlike(REGEX_I_SUBS), 'I')\n",
    "                                         .when(F.col('name').rlike(REGEX_N_SUBS), 'N')\n",
    "                                         .when(F.col('name').rlike(REGEX_R_SUBS), 'R')\n",
    "                                         .when(F.col('name').rlike(REGEX_M_SUBS), 'M')\n",
    "                                        ).otherwise('NaN'))\n",
    "\n",
    "df_airports.show(5)"
   ]
  },
  {
   "cell_type": "markdown",
   "id": "e2826c48",
   "metadata": {},
   "source": [
    "# Planes Dataset"
   ]
  },
  {
   "cell_type": "markdown",
   "id": "3198a29a",
   "metadata": {},
   "source": [
    "### Pergunta 1"
   ]
  },
  {
   "cell_type": "code",
   "execution_count": 26,
   "id": "2859f54e",
   "metadata": {},
   "outputs": [
    {
     "name": "stdout",
     "output_type": "stream",
     "text": [
      "+-------+----+--------------------+----------------+--------+-------+-----+-----+---------+--------+\n",
      "|tailnum|year|                type|    manufacturer|   model|engines|seats|speed|   engine|tailchar|\n",
      "+-------+----+--------------------+----------------+--------+-------+-----+-----+---------+--------+\n",
      "| N102UW|1998|Fixed wing multi ...|AIRBUS INDUSTRIE|A320-214|      2|  182| null|Turbo-fan|      UW|\n",
      "| N103US|1999|Fixed wing multi ...|AIRBUS INDUSTRIE|A320-214|      2|  182| null|Turbo-fan|      US|\n",
      "| N104UW|1999|Fixed wing multi ...|AIRBUS INDUSTRIE|A320-214|      2|  182| null|Turbo-fan|      UW|\n",
      "| N105UW|1999|Fixed wing multi ...|AIRBUS INDUSTRIE|A320-214|      2|  182| null|Turbo-fan|      UW|\n",
      "| N107US|1999|Fixed wing multi ...|AIRBUS INDUSTRIE|A320-214|      2|  182| null|Turbo-fan|      US|\n",
      "+-------+----+--------------------+----------------+--------+-------+-----+-----+---------+--------+\n",
      "only showing top 5 rows\n",
      "\n"
     ]
    }
   ],
   "source": [
    "df_planes = df_planes.select(\n",
    "                            'tailnum', \n",
    "                            'year', \n",
    "                            'type', \n",
    "                            'manufacturer', \n",
    "                            'model', \n",
    "                            'engines', \n",
    "                            'seats', \n",
    "                            'speed', \n",
    "                            'engine'\n",
    "                            )\n",
    "\n",
    "df_planes = df_planes.withColumn('tailchar', F.when(F.col('tailnum').rlike('[ABCDEFGHJKLMPRSTUVXWYZ]'), F.regexp_extract(F.col('tailnum'), '[ABCDEFGHJKLMPRSTUVXWYZ]+', 0)))\n",
    "\n",
    "df_planes.show(5)"
   ]
  },
  {
   "cell_type": "markdown",
   "id": "1e0b0431",
   "metadata": {},
   "source": [
    "### Pergunta 2"
   ]
  },
  {
   "cell_type": "code",
   "execution_count": 27,
   "id": "08be30b5",
   "metadata": {},
   "outputs": [
    {
     "name": "stdout",
     "output_type": "stream",
     "text": [
      "+-------+----+--------------------+----------------+--------+-------+-----+-----+---------+--------+\n",
      "|tailnum|year|                type|    manufacturer|   model|engines|seats|speed|   engine|tailchar|\n",
      "+-------+----+--------------------+----------------+--------+-------+-----+-----+---------+--------+\n",
      "| N102UW|1998|Fixed wing multi ...|AIRBUS INDUSTRIE|A320-214|      2|  182| null|Turbo-fan|      UW|\n",
      "| N103US|1999|Fixed wing multi ...|AIRBUS INDUSTRIE|A320-214|      2|  182| null|Turbo-fan|      US|\n",
      "| N104UW|1999|Fixed wing multi ...|AIRBUS INDUSTRIE|A320-214|      2|  182| null|Turbo-fan|      UW|\n",
      "| N105UW|1999|Fixed wing multi ...|AIRBUS INDUSTRIE|A320-214|      2|  182| null|Turbo-fan|      UW|\n",
      "| N107US|1999|Fixed wing multi ...|AIRBUS INDUSTRIE|A320-214|      2|  182| null|Turbo-fan|      US|\n",
      "+-------+----+--------------------+----------------+--------+-------+-----+-----+---------+--------+\n",
      "only showing top 5 rows\n",
      "\n"
     ]
    }
   ],
   "source": [
    "df_planes = df_planes.select('tailnum', \n",
    "                 (F.when(\n",
    "                     F.col('year') == 0, 1996)\n",
    "                      .otherwise(F.col('year'))\n",
    "                      .alias('year')),\n",
    "                'type', \n",
    "                'manufacturer', \n",
    "                'model', \n",
    "                'engines', \n",
    "                'seats', \n",
    "                'speed', \n",
    "                'engine',\n",
    "                 'tailchar'\n",
    "                )\n",
    "\n",
    "df_planes.show(5)"
   ]
  },
  {
   "cell_type": "markdown",
   "id": "439c8439",
   "metadata": {},
   "source": [
    "### Pergunta 3"
   ]
  },
  {
   "cell_type": "code",
   "execution_count": 31,
   "id": "bdc49885",
   "metadata": {},
   "outputs": [],
   "source": [
    "df_aux1 = df_planes.select('manufacturer', 'model', 'year').groupBy('manufacturer', 'model').agg(F.min('year').alias('aux_year_1')).orderBy(F.col('manufacturer'), F.col('model'))\n",
    "\n",
    "df_aux2 = df_planes.select('manufacturer', 'year').groupBy('manufacturer').agg(F.min('year').alias('aux_year_2')).orderBy(F.col('manufacturer'))\n",
    "\n",
    "df_aux1 = df_aux1.withColumnRenamed('manufacturer', 'manufacturer_aux1').withColumnRenamed('model', 'model_aux1')\n",
    "\n",
    "df_aux2 = df_aux2.withColumnRenamed('manufacturer', 'manufacturer_aux2')\n",
    "\n",
    "condition = [df_planes.model == df_aux1.model_aux1, df_planes.manufacturer == df_aux1.manufacturer_aux1]\n",
    "\n",
    "df_aux3 = df_planes.join(df_aux1, condition, 'left').withColumnRenamed('aux_year_1', 'aux_year_first_condition')\n",
    "\n",
    "df_aux3 = df_aux3.drop('manufacturer_aux1', 'model_aux1')\n",
    "  \n",
    "condition1 = [df_aux3.manufacturer == df_aux2.manufacturer_aux2]\n",
    "\n",
    "df_aux4 = df_aux3.join(df_aux2, condition1, 'left').withColumnRenamed('aux_year_2', 'aux_year_second_condition')\n",
    "\n",
    "df_aux4 = df_aux4.drop('manufacturer_aux2')"
   ]
  },
  {
   "cell_type": "code",
   "execution_count": 32,
   "id": "b75cfb19",
   "metadata": {},
   "outputs": [
    {
     "name": "stdout",
     "output_type": "stream",
     "text": [
      "+----+---------------+-------------+------------------------+-------------------------+\n",
      "|year|   manufacturer|        model|aux_year_first_condition|aux_year_second_condition|\n",
      "+----+---------------+-------------+------------------------+-------------------------+\n",
      "|null|LAMBERT RICHARD|    FALCON XP|                    null|                     null|\n",
      "|null|  BARKER JACK L|ZODIAC 601HDS|                    null|                     null|\n",
      "+----+---------------+-------------+------------------------+-------------------------+\n",
      "\n"
     ]
    }
   ],
   "source": [
    "df = df_aux4.withColumn('year', F.when(F.col('year').isNull(), F.col('aux_year_first_condition'))\n",
    "                                 .otherwise(F.col('aux_year_first_condition'))\n",
    "                       )\n",
    "\n",
    "df = df_aux4.withColumn('year', F.when(F.col('aux_year_first_condition').isNull(), F.col('aux_year_second_condition'))\n",
    "                                 .otherwise(F.col('aux_year_first_condition'))\n",
    "                       )\n",
    "                               \n",
    "df = df.select('year', 'manufacturer', 'model', 'aux_year_first_condition', 'aux_year_second_condition')\n",
    "\n",
    "df.createOrReplaceTempView('planes')\n",
    "\n",
    "spark.getOrCreate().sql(\"select * from planes where year is Null\").show()\n"
   ]
  },
  {
   "cell_type": "markdown",
   "id": "b689c0a5",
   "metadata": {},
   "source": [
    "### Pergunta 4"
   ]
  },
  {
   "cell_type": "code",
   "execution_count": 33,
   "id": "fd3a67c3",
   "metadata": {},
   "outputs": [
    {
     "name": "stdout",
     "output_type": "stream",
     "text": [
      "+-------+----+---------+----------------+--------+-------+-----+-----+---------+--------+---+\n",
      "|tailnum|year|     type|    manufacturer|   model|engines|seats|speed|   engine|tailchar|age|\n",
      "+-------+----+---------+----------------+--------+-------+-----+-----+---------+--------+---+\n",
      "| N102UW|1998|MULTI_ENG|AIRBUS INDUSTRIE|A320-214|      2|  182| null|Turbo-fan|      UW| 24|\n",
      "| N103US|1999|MULTI_ENG|AIRBUS INDUSTRIE|A320-214|      2|  182| null|Turbo-fan|      US| 23|\n",
      "| N104UW|1999|MULTI_ENG|AIRBUS INDUSTRIE|A320-214|      2|  182| null|Turbo-fan|      UW| 23|\n",
      "| N105UW|1999|MULTI_ENG|AIRBUS INDUSTRIE|A320-214|      2|  182| null|Turbo-fan|      UW| 23|\n",
      "| N107US|1999|MULTI_ENG|AIRBUS INDUSTRIE|A320-214|      2|  182| null|Turbo-fan|      US| 23|\n",
      "+-------+----+---------+----------------+--------+-------+-----+-----+---------+--------+---+\n",
      "only showing top 5 rows\n",
      "\n"
     ]
    }
   ],
   "source": [
    "df_planes = df_planes.withColumn('age', int(current_year) - F.col('year'))\n",
    "df_planes.show(5)"
   ]
  },
  {
   "cell_type": "markdown",
   "id": "8d817dd5",
   "metadata": {},
   "source": [
    "### Pergunta 5"
   ]
  },
  {
   "cell_type": "code",
   "execution_count": 29,
   "id": "1709f25c",
   "metadata": {},
   "outputs": [
    {
     "name": "stdout",
     "output_type": "stream",
     "text": [
      "+-------+----+---------+----------------+--------+-------+-----+-----+---------+--------+---+\n",
      "|tailnum|year|     type|    manufacturer|   model|engines|seats|speed|   engine|tailchar|age|\n",
      "+-------+----+---------+----------------+--------+-------+-----+-----+---------+--------+---+\n",
      "| N102UW|1998|MULTI_ENG|AIRBUS INDUSTRIE|A320-214|      2|  182| null|Turbo-fan|      UW| 24|\n",
      "| N103US|1999|MULTI_ENG|AIRBUS INDUSTRIE|A320-214|      2|  182| null|Turbo-fan|      US| 23|\n",
      "| N104UW|1999|MULTI_ENG|AIRBUS INDUSTRIE|A320-214|      2|  182| null|Turbo-fan|      UW| 23|\n",
      "| N105UW|1999|MULTI_ENG|AIRBUS INDUSTRIE|A320-214|      2|  182| null|Turbo-fan|      UW| 23|\n",
      "| N107US|1999|MULTI_ENG|AIRBUS INDUSTRIE|A320-214|      2|  182| null|Turbo-fan|      US| 23|\n",
      "+-------+----+---------+----------------+--------+-------+-----+-----+---------+--------+---+\n",
      "only showing top 5 rows\n",
      "\n"
     ]
    }
   ],
   "source": [
    "df_planes = df_planes.select(\n",
    "                'tailnum',\n",
    "                'year',\n",
    "                (F.when(F.col('type').startswith('Fixed wing multi engine'), 'MULTI_ENG')\n",
    "                  .when(F.col('type').startswith('Fixed wing single engine'), 'SINGLE_ENG')\n",
    "                  .when(F.col('type').startswith('Rotorcraft'), 'ROTORCRAFT')\n",
    "                  .alias('type')), \n",
    "                'manufacturer', \n",
    "                'model', \n",
    "                'engines', \n",
    "                'seats', \n",
    "                'speed', \n",
    "                'engine',\n",
    "                'tailchar',\n",
    "                'age'\n",
    "                )\n",
    "\n",
    "df_planes.show(5)"
   ]
  },
  {
   "cell_type": "markdown",
   "id": "59253ed4",
   "metadata": {},
   "source": [
    "### Pergunta 6"
   ]
  },
  {
   "cell_type": "code",
   "execution_count": 34,
   "id": "09d536a7",
   "metadata": {},
   "outputs": [
    {
     "name": "stdout",
     "output_type": "stream",
     "text": [
      "+-------+----+---------+------------+--------+-------+-----+-----+---------+--------+---+\n",
      "|tailnum|year|     type|manufacturer|   model|engines|seats|speed|   engine|tailchar|age|\n",
      "+-------+----+---------+------------+--------+-------+-----+-----+---------+--------+---+\n",
      "| N102UW|1998|MULTI_ENG|      AIRBUS|A320-214|      2|  182| null|Turbo-fan|      UW| 24|\n",
      "| N103US|1999|MULTI_ENG|      AIRBUS|A320-214|      2|  182| null|Turbo-fan|      US| 23|\n",
      "| N104UW|1999|MULTI_ENG|      AIRBUS|A320-214|      2|  182| null|Turbo-fan|      UW| 23|\n",
      "| N105UW|1999|MULTI_ENG|      AIRBUS|A320-214|      2|  182| null|Turbo-fan|      UW| 23|\n",
      "| N107US|1999|MULTI_ENG|      AIRBUS|A320-214|      2|  182| null|Turbo-fan|      US| 23|\n",
      "+-------+----+---------+------------+--------+-------+-----+-----+---------+--------+---+\n",
      "only showing top 5 rows\n",
      "\n"
     ]
    }
   ],
   "source": [
    "df_planes = df_planes.select(\n",
    "                'tailnum',\n",
    "                'year',\n",
    "                'type', \n",
    "                (F.when(F.col('manufacturer').contains('AIRBUS'), 'AIRBUS')\n",
    "                  .when(F.col('manufacturer').contains('BOEING'), 'BOEING')\n",
    "                  .when(F.col('manufacturer').contains('BOMBARDIER'), 'BOMBARDIER')\n",
    "                  .when(F.col('manufacturer').contains('CESSNA'), 'CESSNA')\n",
    "                  .when(F.col('manufacturer').contains('EMBRAER'), 'EMBRAER')\n",
    "                  .when(F.col('manufacturer').contains('SIKORSKY'), 'SIKORSKY')\n",
    "                  .when(F.col('manufacturer').contains('CANADAIR'), 'CANADAIR')\n",
    "                  .when(F.col('manufacturer').contains('PIPER'), 'PIPER')\n",
    "                  .when(F.col('manufacturer').contains('MCDONNELL DOUGLAS'), 'MCDONNELL DOUGLAS')\n",
    "                  .when(F.col('manufacturer').contains('BELL'), 'BELL')\n",
    "                  .when(F.col('manufacturer').contains('KILDALL GARY'), 'KILDALL GARY')\n",
    "                  .when(F.col('manufacturer').contains('LAMBERT RICHARD'), 'LAMBERT RICHARD')\n",
    "                  .when(F.col('manufacturer').contains('BARKER JACK'), 'BARKER JACK')\n",
    "                  .when(F.col('manufacturer').contains('ROBINSON HELICOPTER'), 'ROBINSON HELICOPTER')\n",
    "                  .when(F.col('manufacturer').contains('GULFSTREAM'), 'GULFSTREAM')\n",
    "                  .when(F.col('manufacturer').contains('MARZ BARRY'), 'MARZ BARRY').alias('manufacturer')),\n",
    "                'model', \n",
    "                'engines', \n",
    "                'seats', \n",
    "                'speed', \n",
    "                'engine',\n",
    "                'tailchar',\n",
    "                'age'\n",
    "                )\n",
    "\n",
    "df_planes.show(5)"
   ]
  },
  {
   "cell_type": "markdown",
   "id": "7d69186d",
   "metadata": {},
   "source": [
    "### Pergunta 7"
   ]
  },
  {
   "cell_type": "code",
   "execution_count": 35,
   "id": "bbe0efbb",
   "metadata": {},
   "outputs": [
    {
     "name": "stdout",
     "output_type": "stream",
     "text": [
      "+-------+----+---------+------------+--------+-------+-----+-----+---------+--------+---+\n",
      "|tailnum|year|     type|manufacturer|   model|engines|seats|speed|   engine|tailchar|age|\n",
      "+-------+----+---------+------------+--------+-------+-----+-----+---------+--------+---+\n",
      "| N102UW|1998|MULTI_ENG|      AIRBUS|A320-214|      2|  182| null|Turbo-fan|      UW| 24|\n",
      "| N103US|1999|MULTI_ENG|      AIRBUS|A320-214|      2|  182| null|Turbo-fan|      US| 23|\n",
      "| N104UW|1999|MULTI_ENG|      AIRBUS|A320-214|      2|  182| null|Turbo-fan|      UW| 23|\n",
      "| N105UW|1999|MULTI_ENG|      AIRBUS|A320-214|      2|  182| null|Turbo-fan|      UW| 23|\n",
      "| N107US|1999|MULTI_ENG|      AIRBUS|A320-214|      2|  182| null|Turbo-fan|      US| 23|\n",
      "+-------+----+---------+------------+--------+-------+-----+-----+---------+--------+---+\n",
      "only showing top 5 rows\n",
      "\n"
     ]
    }
   ],
   "source": [
    "df_planes = df_planes.select(\n",
    "                'tailnum',\n",
    "                'year',\n",
    "                'type', \n",
    "                'manufacturer',\n",
    "                (F.when(F.col('model').contains('('), F.regexp_replace(F.trim(F.col('model')), '(', ''))\n",
    "                 .when(F.col('model').contains(')'), F.regexp_replace(F.trim(F.col('model')), ')', ''))\n",
    "                 .otherwise(F.trim(F.col('model')))\n",
    "                 .alias('model')),\n",
    "                'engines', \n",
    "                'seats', \n",
    "                'speed', \n",
    "                'engine',\n",
    "                'tailchar',\n",
    "                'age'\n",
    "                )\n",
    "\n",
    "df_planes.show(5)"
   ]
  },
  {
   "cell_type": "markdown",
   "id": "f21944aa",
   "metadata": {},
   "source": [
    "### Pergunta 8"
   ]
  },
  {
   "cell_type": "code",
   "execution_count": 36,
   "id": "e67020e6",
   "metadata": {},
   "outputs": [
    {
     "name": "stdout",
     "output_type": "stream",
     "text": [
      "+-------+----+---------+------------+--------+-------+-----+-----+---------+--------+---+\n",
      "|tailnum|year|     type|manufacturer|   model|engines|seats|speed|   engine|tailchar|age|\n",
      "+-------+----+---------+------------+--------+-------+-----+-----+---------+--------+---+\n",
      "| N102UW|1998|MULTI_ENG|      AIRBUS|A320-214|      2|  182|  505|Turbo-fan|      UW| 24|\n",
      "| N103US|1999|MULTI_ENG|      AIRBUS|A320-214|      2|  182|  505|Turbo-fan|      US| 23|\n",
      "| N104UW|1999|MULTI_ENG|      AIRBUS|A320-214|      2|  182|  505|Turbo-fan|      UW| 23|\n",
      "| N105UW|1999|MULTI_ENG|      AIRBUS|A320-214|      2|  182|  505|Turbo-fan|      UW| 23|\n",
      "| N107US|1999|MULTI_ENG|      AIRBUS|A320-214|      2|  182|  505|Turbo-fan|      US| 23|\n",
      "+-------+----+---------+------------+--------+-------+-----+-----+---------+--------+---+\n",
      "only showing top 5 rows\n",
      "\n"
     ]
    }
   ],
   "source": [
    "df_planes = df_planes.select(\n",
    "                'tailnum',\n",
    "                'year',\n",
    "                'type', \n",
    "                'manufacturer',\n",
    "                'model',\n",
    "                'engines', \n",
    "                'seats', \n",
    "                F.when(F.col('speed').isNull(), F.col('seats') / 0.36).alias('speed').cast(IntegerType()), \n",
    "                'engine',\n",
    "                'tailchar',\n",
    "                'age'\n",
    "                )\n",
    "\n",
    "df_planes.show(5)"
   ]
  },
  {
   "cell_type": "markdown",
   "id": "e02fc922",
   "metadata": {},
   "source": [
    "### Pergunta 9"
   ]
  },
  {
   "cell_type": "code",
   "execution_count": 23,
   "id": "22dcef3f",
   "metadata": {},
   "outputs": [
    {
     "name": "stdout",
     "output_type": "stream",
     "text": [
      "+-------+----+---------+------------+--------+-------+-----+-----+---------+--------+---+-----------+\n",
      "|tailnum|year|     type|manufacturer|   model|engines|seats|speed|   engine|tailchar|age|engine_type|\n",
      "+-------+----+---------+------------+--------+-------+-----+-----+---------+--------+---+-----------+\n",
      "| N102UW|1998|MULTI_ENG|      AIRBUS|A320-214|      2|  182|  505|Turbo-fan|      UW| 24|        FAN|\n",
      "| N103US|1999|MULTI_ENG|      AIRBUS|A320-214|      2|  182|  505|Turbo-fan|      US| 23|        FAN|\n",
      "| N104UW|1999|MULTI_ENG|      AIRBUS|A320-214|      2|  182|  505|Turbo-fan|      UW| 23|        FAN|\n",
      "| N105UW|1999|MULTI_ENG|      AIRBUS|A320-214|      2|  182|  505|Turbo-fan|      UW| 23|        FAN|\n",
      "| N107US|1999|MULTI_ENG|      AIRBUS|A320-214|      2|  182|  505|Turbo-fan|      US| 23|        FAN|\n",
      "+-------+----+---------+------------+--------+-------+-----+-----+---------+--------+---+-----------+\n",
      "only showing top 5 rows\n",
      "\n"
     ]
    }
   ],
   "source": [
    "df_planes = df_planes.select(\n",
    "                'tailnum',\n",
    "                'year',\n",
    "                'type', \n",
    "                'manufacturer',\n",
    "                'model',\n",
    "                'engines', \n",
    "                'seats', \n",
    "                'speed', \n",
    "                'engine',\n",
    "                'tailchar',\n",
    "                'age'\n",
    "                )\n",
    "\n",
    "df_planes = df_planes.withColumn('engine_type', \n",
    "                    F.when(F.col('engine').contains('Turbo-fan'), 'FAN')\n",
    "                     .when(F.col('engine').contains('Turbo-jet'), 'JET')\n",
    "                     .when(F.col('engine').contains('Turbo-prop'), 'PROP')\n",
    "                     .when(F.col('engine').contains('Turbo-shaft'), 'SHAFT')\n",
    "                     .when(F.col('engine').contains('4 Cycle'), 'CYCLE'))\n",
    "\n",
    "df_planes.show(5)"
   ]
  },
  {
   "cell_type": "markdown",
   "id": "ac613fa5",
   "metadata": {},
   "source": [
    "# Flights Dataset"
   ]
  },
  {
   "cell_type": "markdown",
   "id": "a858b439",
   "metadata": {},
   "source": [
    "### Pergunta 1"
   ]
  },
  {
   "cell_type": "code",
   "execution_count": 41,
   "id": "a21cf771",
   "metadata": {},
   "outputs": [
    {
     "name": "stdout",
     "output_type": "stream",
     "text": [
      "+----+-----+---+--------+---------+--------+---------+-------+-------+------+------+----+--------+--------+----+------+\n",
      "|year|month|day|dep_time|dep_delay|arr_time|arr_delay|carrier|tailnum|flight|origin|dest|air_time|distance|hour|minute|\n",
      "+----+-----+---+--------+---------+--------+---------+-------+-------+------+------+----+--------+--------+----+------+\n",
      "|2014|   12|  8|     658|       -7|     935|       -5|     VX| N846VA|  1780|   SEA| LAX|     132|     954|   6|    58|\n",
      "|2014|    1| 22|    1040|        5|    1505|        5|     AS| N559AS|   851|   SEA| HNL|     360|    2677|  10|    40|\n",
      "|2014|    3|  9|    1443|       -2|    1652|        2|     VX| N847VA|   755|   SEA| SFO|     111|     679|  14|    43|\n",
      "|2014|    4|  9|    1705|       45|    1839|       34|     WN| N360SW|   344|   PDX| SJC|      83|     569|  17|     5|\n",
      "|2014|    3|  9|     754|       -1|    1015|        1|     AS| N612AS|   522|   SEA| BUR|     127|     937|   7|    54|\n",
      "+----+-----+---+--------+---------+--------+---------+-------+-------+------+------+----+--------+--------+----+------+\n",
      "only showing top 5 rows\n",
      "\n"
     ]
    }
   ],
   "source": [
    "df_flights = df_flights.select(\n",
    "                       'year',\n",
    "                       'month',\n",
    "                       'day', \n",
    "                       'dep_time',\n",
    "                       'dep_delay',\n",
    "                       'arr_time', \n",
    "                       'arr_delay', \n",
    "                       'carrier', \n",
    "                       'tailnum',\n",
    "                       'flight',\n",
    "                       'origin',\n",
    "                       'dest', \n",
    "                       'air_time',\n",
    "                       'distance',\n",
    "                      F.when(F.col('hour').isNull() | F.col('hour').like('NA'), 0).otherwise(F.col('hour')).alias('hour'),\n",
    "                      F.when(F.col('minute').isNull() | F.col('minute').like('NA'), 0).otherwise(F.col('minute')).alias('minute'))\n",
    "\n",
    "df_flights.show(5)"
   ]
  },
  {
   "cell_type": "markdown",
   "id": "364c3cd3",
   "metadata": {},
   "source": [
    "### Pergunta 2"
   ]
  },
  {
   "cell_type": "code",
   "execution_count": 39,
   "id": "cd67ddb3",
   "metadata": {},
   "outputs": [
    {
     "name": "stdout",
     "output_type": "stream",
     "text": [
      "+----+-----+---+--------+---------+--------+---------+-------+-------+------+------+----+--------+--------+----+------+\n",
      "|year|month|day|dep_time|dep_delay|arr_time|arr_delay|carrier|tailnum|flight|origin|dest|air_time|distance|hour|minute|\n",
      "+----+-----+---+--------+---------+--------+---------+-------+-------+------+------+----+--------+--------+----+------+\n",
      "|2014|   12|  8|     658|       -7|     935|       -5|     VX| N846VA|  1780|   SEA| LAX|     132|     954|   6|    58|\n",
      "|2014|    1| 22|    1040|        5|    1505|        5|     AS| N559AS|   851|   SEA| HNL|     360|    2677|  10|    40|\n",
      "|2014|    3|  9|    1443|       -2|    1652|        2|     VX| N847VA|   755|   SEA| SFO|     111|     679|  14|    43|\n",
      "|2014|    4|  9|    1705|       45|    1839|       34|     WN| N360SW|   344|   PDX| SJC|      83|     569|  17|     5|\n",
      "|2014|    3|  9|     754|       -1|    1015|        1|     AS| N612AS|   522|   SEA| BUR|     127|     937|   7|    54|\n",
      "+----+-----+---+--------+---------+--------+---------+-------+-------+------+------+----+--------+--------+----+------+\n",
      "only showing top 5 rows\n",
      "\n"
     ]
    }
   ],
   "source": [
    "df_flights = df_flights.select(\n",
    "                'year',\n",
    "                'month',\n",
    "                'day', \n",
    "                'dep_time',\n",
    "                'dep_delay',\n",
    "                'arr_time', \n",
    "                'arr_delay', \n",
    "                'carrier', \n",
    "                'tailnum',\n",
    "                'flight',\n",
    "                'origin',\n",
    "                'dest', \n",
    "                'air_time',\n",
    "                'distance',\n",
    "                F.when(F.col('hour') == 24, 0).otherwise(F.col('hour')).alias('hour'),\n",
    "                'minute'\n",
    "                )\n",
    "\n",
    "df_flights.show(5)"
   ]
  },
  {
   "cell_type": "markdown",
   "id": "2e817dfe",
   "metadata": {},
   "source": [
    "### Pergunta 3"
   ]
  },
  {
   "cell_type": "code",
   "execution_count": 43,
   "id": "83fb7b00",
   "metadata": {},
   "outputs": [
    {
     "name": "stdout",
     "output_type": "stream",
     "text": [
      "+-------------------+----+-----+---+----+------+\n",
      "|       dep_datetime|year|month|day|hour|minute|\n",
      "+-------------------+----+-----+---+----+------+\n",
      "|2014-12-08 06:58:00|2014|   12|  8|   6|    58|\n",
      "|2014-01-22 10:40:00|2014|    1| 22|  10|    40|\n",
      "|2014-03-09 14:43:00|2014|    3|  9|  14|    43|\n",
      "|2014-04-09 17:05:00|2014|    4|  9|  17|     5|\n",
      "|2014-03-09 07:54:00|2014|    3|  9|   7|    54|\n",
      "+-------------------+----+-----+---+----+------+\n",
      "only showing top 5 rows\n",
      "\n"
     ]
    }
   ],
   "source": [
    "# # Fazer o cast pro timestamp depois pois está ficando nulo\n",
    "# df_flights = df_flights.withColumn('dep_year', F.concat_ws('-' ,F.col('year'), F.lpad(F.col('month'), 2, '0'), F.lpad(F.col('day'), 2, '0')))\n",
    "# df_flights = df_flights.withColumn('dep_hour', F.concat_ws(':', F.lpad(F.col('hour'), 2, '0'), F.lpad(F.col('minute'), 2, '0'), F.lit('00')))\n",
    "# df_flights = df_flights.withColumn('dep_datetime', F.concat_ws(' ', 'dep_year', 'dep_hour'))\n",
    "\n",
    "# df_flights.drop('dep_year', 'dep_hour').show(5)\n",
    "\n",
    "df_flights = df_flights.withColumn('dep_datetime', \n",
    "                    F.to_timestamp( F.concat_ws(' ', F.concat_ws('-', df_flights.year, df_flights.month, df_flights.day),\n",
    "                                                     F.concat_ws(':', df_flights.hour, df_flights.minute, F.lit(00))       \n",
    "                                               )\n",
    "                                  )\n",
    ")\n",
    "\n",
    "df_flights.createOrReplaceTempView('flights')\n",
    "\n",
    "spark.getOrCreate().sql(\"select dep_datetime, year, month, day, hour, minute from flights\").show(5)"
   ]
  },
  {
   "cell_type": "markdown",
   "id": "b6e2327a",
   "metadata": {},
   "source": [
    "### Pergunta 4"
   ]
  },
  {
   "cell_type": "code",
   "execution_count": 47,
   "id": "f5f3da36",
   "metadata": {},
   "outputs": [
    {
     "name": "stdout",
     "output_type": "stream",
     "text": [
      "+----+-----+---+---------+--------+---------+-------+-------+------+------+----+--------+--------+----+------+-------------------+--------+\n",
      "|year|month|day|dep_delay|arr_time|arr_delay|carrier|tailnum|flight|origin|dest|air_time|distance|hour|minute|       dep_datetime|dep_time|\n",
      "+----+-----+---+---------+--------+---------+-------+-------+------+------+----+--------+--------+----+------+-------------------+--------+\n",
      "|2014|   12|  8|       -7|     935|       -5|     VX| N846VA|  1780|   SEA| LAX|     132|     954|   6|    58|2014-12-08 06:58:00|     658|\n",
      "|2014|    1| 22|        5|    1505|        5|     AS| N559AS|   851|   SEA| HNL|     360|    2677|  10|    40|2014-01-22 10:40:00|    1040|\n",
      "|2014|    3|  9|       -2|    1652|        2|     VX| N847VA|   755|   SEA| SFO|     111|     679|  14|    43|2014-03-09 14:43:00|    1443|\n",
      "|2014|    4|  9|       45|    1839|       34|     WN| N360SW|   344|   PDX| SJC|      83|     569|  17|     5|2014-04-09 17:05:00|    1705|\n",
      "|2014|    3|  9|       -1|    1015|        1|     AS| N612AS|   522|   SEA| BUR|     127|     937|   7|    54|2014-03-09 07:54:00|     754|\n",
      "+----+-----+---+---------+--------+---------+-------+-------+------+------+----+--------+--------+----+------+-------------------+--------+\n",
      "only showing top 5 rows\n",
      "\n"
     ]
    }
   ],
   "source": [
    "df_flights = df_flights.select(\n",
    "                'year',\n",
    "                'month',\n",
    "                'day',\n",
    "                'dep_delay',\n",
    "                'arr_time',\n",
    "                'arr_delay',\n",
    "                'carrier',\n",
    "                'tailnum',\n",
    "                'flight',\n",
    "                'origin',\n",
    "                'dest',\n",
    "                'air_time',\n",
    "                'distance',\n",
    "                'hour',\n",
    "                'minute',\n",
    "                'dep_datetime',\n",
    "                F.when(\n",
    "                    F.col('dep_time').isNull(),\n",
    "                    F.col('dep_time'))\n",
    "                     .otherwise(F.col('dep_time'))\n",
    "                     .alias('dep_time'))\n",
    "df_flights.show(5)"
   ]
  },
  {
   "cell_type": "markdown",
   "id": "fbbcc15c",
   "metadata": {},
   "source": [
    "### Pergunta 5"
   ]
  },
  {
   "cell_type": "code",
   "execution_count": 48,
   "id": "29ae14c1",
   "metadata": {},
   "outputs": [
    {
     "name": "stdout",
     "output_type": "stream",
     "text": [
      "+----+-----+---+--------+---------+--------+---------+-------+-------+------+------+----+--------+--------+----+------+-------------------+\n",
      "|year|month|day|dep_time|dep_delay|arr_time|arr_delay|carrier|tailnum|flight|origin|dest|air_time|distance|hour|minute|       dep_datetime|\n",
      "+----+-----+---+--------+---------+--------+---------+-------+-------+------+------+----+--------+--------+----+------+-------------------+\n",
      "|2014|   12|  8|     658|       -7|     935|       -5|     VX| N846VA|  1780|   SEA| LAX|     132|     954|   6|    58|2014-12-08 06:58:00|\n",
      "|2014|    1| 22|    1040|        5|    1505|        5|     AS| N559AS|   851|   SEA| HNL|     360|    2677|  10|    40|2014-01-22 10:40:00|\n",
      "|2014|    3|  9|    1443|       -2|    1652|        2|     VX| N847VA|   755|   SEA| SFO|     111|     679|  14|    43|2014-03-09 14:43:00|\n",
      "|2014|    4|  9|    1705|       45|    1839|       34|     WN| N360SW|   344|   PDX| SJC|      83|     569|  17|     5|2014-04-09 17:05:00|\n",
      "|2014|    3|  9|     754|       -1|    1015|        1|     AS| N612AS|   522|   SEA| BUR|     127|     937|   7|    54|2014-03-09 07:54:00|\n",
      "+----+-----+---+--------+---------+--------+---------+-------+-------+------+------+----+--------+--------+----+------+-------------------+\n",
      "only showing top 5 rows\n",
      "\n"
     ]
    }
   ],
   "source": [
    "df_flights = df_flights.select(\n",
    "                'year',\n",
    "                'month',\n",
    "                'day',\n",
    "                'dep_time',\n",
    "                (F.when(\n",
    "                    F.col('dep_delay').isNull() | F.col('dep_delay').like('NA'), 0)\n",
    "                     .otherwise(F.col('dep_delay'))\n",
    "                     .alias('dep_delay')),\n",
    "                'arr_time',\n",
    "                'arr_delay',\n",
    "                'carrier',\n",
    "                'tailnum',\n",
    "                'flight',\n",
    "                'origin',\n",
    "                'dest',\n",
    "                'air_time',\n",
    "                'distance',\n",
    "                'hour',\n",
    "                'minute',\n",
    "                'dep_datetime')\n",
    "\n",
    "df_flights.show(5)"
   ]
  },
  {
   "cell_type": "markdown",
   "id": "a486cf3b",
   "metadata": {},
   "source": [
    "### Pergunta 6"
   ]
  },
  {
   "cell_type": "code",
   "execution_count": 49,
   "id": "166141e2",
   "metadata": {},
   "outputs": [
    {
     "name": "stdout",
     "output_type": "stream",
     "text": [
      "+----+-----+---+--------+---------+--------+---------+-------+-------+------+------+----+--------+--------+----+------+-------------------+\n",
      "|year|month|day|dep_time|dep_delay|arr_time|arr_delay|carrier|tailnum|flight|origin|dest|air_time|distance|hour|minute|       dep_datetime|\n",
      "+----+-----+---+--------+---------+--------+---------+-------+-------+------+------+----+--------+--------+----+------+-------------------+\n",
      "|2014|   12|  8|     658|       -7|     935|       -5|     VX| N846VA|  1780|   SEA| LAX|     132|     954|   6|    58|2014-12-08 06:58:00|\n",
      "|2014|    1| 22|    1040|        5|    1505|        5|     AS| N559AS|   851|   SEA| HNL|     360|    2677|  10|    40|2014-01-22 10:40:00|\n",
      "|2014|    3|  9|    1443|       -2|    1652|        2|     VX| N847VA|   755|   SEA| SFO|     111|     679|  14|    43|2014-03-09 14:43:00|\n",
      "|2014|    4|  9|    1705|       45|    1839|       34|     WN| N360SW|   344|   PDX| SJC|      83|     569|  17|     5|2014-04-09 17:05:00|\n",
      "|2014|    3|  9|     754|       -1|    1015|        1|     AS| N612AS|   522|   SEA| BUR|     127|     937|   7|    54|2014-03-09 07:54:00|\n",
      "+----+-----+---+--------+---------+--------+---------+-------+-------+------+------+----+--------+--------+----+------+-------------------+\n",
      "only showing top 5 rows\n",
      "\n"
     ]
    }
   ],
   "source": [
    "df_flights = df_flights.select(\n",
    "                'year',\n",
    "                'month',\n",
    "                'day',\n",
    "                'dep_time',\n",
    "                'dep_delay',\n",
    "                'arr_time',\n",
    "                (F.when(\n",
    "                    F.col('arr_delay').isNull() | F.col('dep_delay').like('NA'), 0)\n",
    "                     .otherwise(F.col('arr_delay'))\n",
    "                     .alias('arr_delay')),\n",
    "                'carrier',\n",
    "                'tailnum',\n",
    "                'flight',\n",
    "                'origin',\n",
    "                'dest',\n",
    "                'air_time',\n",
    "                'distance',\n",
    "                'hour',\n",
    "                'minute',\n",
    "                'dep_datetime'\n",
    "                )\n",
    "\n",
    "df_flights.show(5)"
   ]
  },
  {
   "cell_type": "markdown",
   "id": "b4fb0686",
   "metadata": {},
   "source": [
    "### Pergunta 7"
   ]
  },
  {
   "cell_type": "code",
   "execution_count": 50,
   "id": "abdbcb6f",
   "metadata": {},
   "outputs": [
    {
     "name": "stdout",
     "output_type": "stream",
     "text": [
      "+--------+---------+--------+---------+-------+-------+------+------+----+--------+--------+-------------------+\n",
      "|dep_time|dep_delay|arr_time|arr_delay|carrier|tailnum|flight|origin|dest|air_time|distance|       dep_datetime|\n",
      "+--------+---------+--------+---------+-------+-------+------+------+----+--------+--------+-------------------+\n",
      "|     658|       -7|     935|       -5|     VX| N846VA|  1780|   SEA| LAX|     132|     954|2014-12-08 06:58:00|\n",
      "|    1040|        5|    1505|        5|     AS| N559AS|   851|   SEA| HNL|     360|    2677|2014-01-22 10:40:00|\n",
      "|    1443|       -2|    1652|        2|     VX| N847VA|   755|   SEA| SFO|     111|     679|2014-03-09 14:43:00|\n",
      "|    1705|       45|    1839|       34|     WN| N360SW|   344|   PDX| SJC|      83|     569|2014-04-09 17:05:00|\n",
      "|     754|       -1|    1015|        1|     AS| N612AS|   522|   SEA| BUR|     127|     937|2014-03-09 07:54:00|\n",
      "+--------+---------+--------+---------+-------+-------+------+------+----+--------+--------+-------------------+\n",
      "only showing top 5 rows\n",
      "\n"
     ]
    }
   ],
   "source": [
    "df_flights = df_flights.drop('year', 'month', 'day', 'hour', 'minute')\n",
    "df_flights.show(5)"
   ]
  },
  {
   "cell_type": "markdown",
   "id": "4462b03d",
   "metadata": {},
   "source": [
    "### Pergunta 8"
   ]
  },
  {
   "cell_type": "code",
   "execution_count": null,
   "id": "63d4ed62",
   "metadata": {},
   "outputs": [],
   "source": [
    "df_flights = df_flights.withColumn('air_time_projected', ((F.col('distance')* 0.1) + 20).cast('integer'))\n",
    "\n",
    "df_flights.show(5)"
   ]
  },
  {
   "cell_type": "markdown",
   "id": "4dc4bb7f",
   "metadata": {},
   "source": [
    "### Pergunta 9"
   ]
  },
  {
   "cell_type": "code",
   "execution_count": 51,
   "id": "f0e8fcca",
   "metadata": {},
   "outputs": [
    {
     "name": "stdout",
     "output_type": "stream",
     "text": [
      "+--------+---------+--------+---------+-------+-------+------+------+----+--------+--------+-------------------+-----------------+\n",
      "|dep_time|dep_delay|arr_time|arr_delay|carrier|tailnum|flight|origin|dest|air_time|distance|       dep_datetime|air_time_expected|\n",
      "+--------+---------+--------+---------+-------+-------+------+------+----+--------+--------+-------------------+-----------------+\n",
      "|     658|       -7|     935|       -5|     VX| N846VA|  1780|   SEA| LAX|     132|     954|2014-12-08 06:58:00|           126.86|\n",
      "|    1040|        5|    1505|        5|     AS| N559AS|   851|   SEA| HNL|     360|    2677|2014-01-22 10:40:00|           343.51|\n",
      "|    1443|       -2|    1652|        2|     VX| N847VA|   755|   SEA| SFO|     111|     679|2014-03-09 14:43:00|           101.39|\n",
      "|    1705|       45|    1839|       34|     WN| N360SW|   344|   PDX| SJC|      83|     569|2014-04-09 17:05:00|            85.81|\n",
      "|     754|       -1|    1015|        1|     AS| N612AS|   522|   SEA| BUR|     127|     937|2014-03-09 07:54:00|           122.42|\n",
      "+--------+---------+--------+---------+-------+-------+------+------+----+--------+--------+-------------------+-----------------+\n",
      "only showing top 5 rows\n",
      "\n"
     ]
    }
   ],
   "source": [
    "df_flights_aux = df_flights.groupBy(['origin', 'dest']).agg({\"air_time\":\"avg\"})\n",
    "\n",
    "df_flights_aux = df_flights_aux.select(\n",
    "                    F.concat_ws('_', 'origin', 'dest').alias('origin_dest_aux'),\n",
    "                    F.round(F.col('avg(air_time)'), 2)\n",
    "                     .alias('air_time_expected'))\n",
    "\n",
    "df_flights = df_flights.select('*', F.concat_ws('_', 'origin', 'dest').alias('origin_dest_main'))\n",
    "\n",
    "df_flights = df_flights.join(df_flights_aux, df_flights.origin_dest_main == df_flights_aux.origin_dest_aux, 'left')\n",
    "\n",
    "df_flights = df_flights.drop('origin_dest_aux', 'origin_dest_main')\n",
    "\n",
    "df_flights.show(5)"
   ]
  },
  {
   "cell_type": "markdown",
   "id": "7ec3e689",
   "metadata": {},
   "source": [
    "### Pergunta 10"
   ]
  },
  {
   "cell_type": "code",
   "execution_count": 41,
   "id": "5d511197",
   "metadata": {},
   "outputs": [
    {
     "name": "stdout",
     "output_type": "stream",
     "text": [
      "+--------+---------+--------+---------+-------+-------+------+------+----+--------+--------+-------------------+------------------+-----------------+\n",
      "|dep_time|dep_delay|arr_time|arr_delay|carrier|tailnum|flight|origin|dest|air_time|distance|       dep_datetime|air_time_projected|air_time_expected|\n",
      "+--------+---------+--------+---------+-------+-------+------+------+----+--------+--------+-------------------+------------------+-----------------+\n",
      "|     658|       -7|   935.0|       -5|     VX| N846VA|  1780|   SEA| LAX|     132|     954|2014-12-08 06:58:00|               115|           126.86|\n",
      "|    1040|        5|  1505.0|        5|     AS| N559AS|   851|   SEA| HNL|     360|    2677|2014-01-22 10:40:00|               287|           343.51|\n",
      "|    1443|       -2|  1652.0|        2|     VX| N847VA|   755|   SEA| SFO|     111|     679|2014-03-09 14:43:00|                87|           101.39|\n",
      "|    1705|       45|  1839.0|       34|     WN| N360SW|   344|   PDX| SJC|      83|     569|2014-04-09 17:05:00|                76|            85.81|\n",
      "|     754|       -1|  1015.0|        1|     AS| N612AS|   522|   SEA| BUR|     127|     937|2014-03-09 07:54:00|               113|           122.42|\n",
      "+--------+---------+--------+---------+-------+-------+------+------+----+--------+--------+-------------------+------------------+-----------------+\n",
      "only showing top 5 rows\n",
      "\n"
     ]
    }
   ],
   "source": [
    "df_flights = df_flights.withColumn('air_time', F.coalesce(F.col('air_time'), F.greatest('air_time_projected', 'air_time_expected')).cast('integer'))\n",
    "\n",
    "df_flights.show(5)"
   ]
  },
  {
   "cell_type": "markdown",
   "id": "a45085d6",
   "metadata": {},
   "source": [
    "### Pergunta 11"
   ]
  },
  {
   "cell_type": "code",
   "execution_count": 52,
   "id": "2d367426",
   "metadata": {},
   "outputs": [
    {
     "name": "stdout",
     "output_type": "stream",
     "text": [
      "+--------+---------+--------+---------+-------+-------+------+------+----+--------+--------+-------------------+-----------------+\n",
      "|dep_time|dep_delay|arr_time|arr_delay|carrier|tailnum|flight|origin|dest|air_time|distance|       dep_datetime|air_time_expected|\n",
      "+--------+---------+--------+---------+-------+-------+------+------+----+--------+--------+-------------------+-----------------+\n",
      "|     658|       -7|     935|       -5|     VX| N846VA|  1780|   SEA| LAX|     132|     954|2014-12-08 06:58:00|           126.86|\n",
      "|    1040|        5|    1505|        5|     AS| N559AS|   851|   SEA| HNL|     360|    2677|2014-01-22 10:40:00|           343.51|\n",
      "|    1443|       -2|    1652|        2|     VX| N847VA|   755|   SEA| SFO|     111|     679|2014-03-09 14:43:00|           101.39|\n",
      "|    1705|       45|    1839|       34|     WN| N360SW|   344|   PDX| SJC|      83|     569|2014-04-09 17:05:00|            85.81|\n",
      "|     754|       -1|    1015|        1|     AS| N612AS|   522|   SEA| BUR|     127|     937|2014-03-09 07:54:00|           122.42|\n",
      "+--------+---------+--------+---------+-------+-------+------+------+----+--------+--------+-------------------+-----------------+\n",
      "only showing top 5 rows\n",
      "\n"
     ]
    }
   ],
   "source": [
    "df_flights = df_flights.withColumn('arr_time', F.coalesce(F.col('arr_time'), (F.col('dep_time') + F.col('air_time'))))\n",
    "\n",
    "df_flights.show(5)"
   ]
  },
  {
   "cell_type": "markdown",
   "id": "3999b94c",
   "metadata": {},
   "source": [
    "### Pergunta 12"
   ]
  },
  {
   "cell_type": "code",
   "execution_count": 54,
   "id": "5c052495",
   "metadata": {},
   "outputs": [
    {
     "name": "stdout",
     "output_type": "stream",
     "text": [
      "+-------------+--------+\n",
      "|haul_duration|air_time|\n",
      "+-------------+--------+\n",
      "|   SHORT-HAUL|     132|\n",
      "|    LONG-HAUL|     360|\n",
      "|   SHORT-HAUL|     111|\n",
      "|   SHORT-HAUL|      83|\n",
      "|   SHORT-HAUL|     127|\n",
      "+-------------+--------+\n",
      "only showing top 5 rows\n",
      "\n"
     ]
    }
   ],
   "source": [
    "df_flights = df_flights.withColumn('haul_duration', F.when(F.col('air_time').between(20, 180), 'SHORT-HAUL')\n",
    "                                                     .when(F.col('air_time').between(180, 300), 'MEDIUM-HAUL')\n",
    "                                                     .when(F.col('air_time')>300 , 'LONG-HAUL') \n",
    "                                  )\n",
    "\n",
    "df_flights.createOrReplaceTempView('flights')\n",
    "\n",
    "spark.getOrCreate().sql(\"select haul_duration, air_time from flights\").show(5)"
   ]
  },
  {
   "cell_type": "markdown",
   "id": "20cd3235",
   "metadata": {},
   "source": [
    "### Pergunta 13"
   ]
  },
  {
   "cell_type": "code",
   "execution_count": 55,
   "id": "9ee33478",
   "metadata": {},
   "outputs": [
    {
     "name": "stdout",
     "output_type": "stream",
     "text": [
      "+----------+-----+\n",
      "|dep_season|count|\n",
      "+----------+-----+\n",
      "|    WINTER| 2149|\n",
      "|    SPRING| 2560|\n",
      "|      FALL| 2373|\n",
      "|    SUMMER| 2918|\n",
      "+----------+-----+\n",
      "\n",
      "+-------------------+----------+\n",
      "|       dep_datetime|dep_season|\n",
      "+-------------------+----------+\n",
      "|2014-04-09 17:05:00|    SPRING|\n",
      "|2014-05-12 16:55:00|    SPRING|\n",
      "|2014-04-19 12:36:00|    SPRING|\n",
      "|2014-06-05 17:33:00|    SPRING|\n",
      "|2014-06-05 11:33:00|    SPRING|\n",
      "|2014-06-04 11:15:00|    SPRING|\n",
      "|2014-06-11 19:57:00|    SPRING|\n",
      "|2014-06-07 18:23:00|    SPRING|\n",
      "|2014-04-30 08:01:00|    SPRING|\n",
      "|2014-06-02 22:22:00|    SPRING|\n",
      "|2014-05-21 05:15:00|    SPRING|\n",
      "|2014-06-11 07:50:00|    SPRING|\n",
      "|2014-06-13 22:33:00|    SPRING|\n",
      "|2014-05-02 12:53:00|    SPRING|\n",
      "|2014-05-22 10:18:00|    SPRING|\n",
      "|2014-05-16 07:46:00|    SPRING|\n",
      "|2014-05-12 14:24:00|    SPRING|\n",
      "|2014-04-06 18:44:00|    SPRING|\n",
      "|2014-04-01 10:10:00|    SPRING|\n",
      "|2014-04-25 10:49:00|    SPRING|\n",
      "+-------------------+----------+\n",
      "only showing top 20 rows\n",
      "\n",
      "+-------------------+----------+\n",
      "|       dep_datetime|dep_season|\n",
      "+-------------------+----------+\n",
      "|2014-01-22 10:40:00|    WINTER|\n",
      "|2014-03-09 14:43:00|    WINTER|\n",
      "|2014-03-09 07:54:00|    WINTER|\n",
      "|2014-01-15 10:37:00|    WINTER|\n",
      "|2014-01-29 20:09:00|    WINTER|\n",
      "|2014-01-13 21:56:00|    WINTER|\n",
      "|2014-12-30 13:05:00|    WINTER|\n",
      "|2014-02-25 05:55:00|    WINTER|\n",
      "|2014-03-13 22:01:00|    WINTER|\n",
      "|2014-03-20 12:00:00|    WINTER|\n",
      "|2014-01-15 08:08:00|    WINTER|\n",
      "|2014-02-18 05:54:00|    WINTER|\n",
      "|2014-03-19 17:50:00|    WINTER|\n",
      "|2014-03-20 07:04:00|    WINTER|\n",
      "|2014-01-22 15:28:00|    WINTER|\n",
      "|2014-02-14 20:02:00|    WINTER|\n",
      "|2014-12-26 23:37:00|    WINTER|\n",
      "|2014-01-06 07:58:00|    WINTER|\n",
      "|2014-01-11 07:16:00|    WINTER|\n",
      "|2014-02-17 09:01:00|    WINTER|\n",
      "+-------------------+----------+\n",
      "only showing top 20 rows\n",
      "\n"
     ]
    }
   ],
   "source": [
    "df_flights = df_flights.withColumn('dep_season',\n",
    "                                        F.when(F.col('dep_datetime').between(F.concat(F.year('dep_datetime'),F.lit('-03-20 15:33:00')),F.concat(F.year('dep_datetime'),F.lit('-06-21 10:14:00'))), 'SPRING')\n",
    "                                         .when(F.col('dep_datetime').between(F.concat(F.year('dep_datetime'),F.lit('-06-21 10:14:00')),F.concat(F.year('dep_datetime'),F.lit('-09-23 02:04:00'))), 'SUMMER')\n",
    "                                         .when(F.col('dep_datetime').between(F.concat(F.year('dep_datetime'),F.lit('-09-23 02:04:00')),F.concat(F.year('dep_datetime'),F.lit('-12-21 21:48:00'))), 'FALL')\n",
    "                                         .otherwise('WINTER')\n",
    "                                  )\n",
    "\n",
    "\n",
    "df_flights.select('dep_season').groupBy('dep_season').count().show()\n",
    "df_flights.select('dep_datetime','dep_season').filter(df_flights.dep_season == 'SPRING').show()\n",
    "\n",
    "df_flights.createOrReplaceTempView('flights')\n",
    "\n",
    "spark.getOrCreate().sql(\"select dep_datetime, dep_season from flights where dep_season = 'WINTER'\").show()"
   ]
  },
  {
   "cell_type": "markdown",
   "id": "f64a2e2e",
   "metadata": {},
   "source": [
    "### Pergunta 14"
   ]
  },
  {
   "cell_type": "code",
   "execution_count": 56,
   "id": "9e3941ef",
   "metadata": {},
   "outputs": [
    {
     "name": "stdout",
     "output_type": "stream",
     "text": [
      "+---------+------------------+\n",
      "|dep_delay|dep_delay_category|\n",
      "+---------+------------------+\n",
      "|       -7|       ANTECIPATED|\n",
      "|        5|             MINOR|\n",
      "|       -2|       ANTECIPATED|\n",
      "|       45|             MINOR|\n",
      "|       -1|       ANTECIPATED|\n",
      "|        7|             MINOR|\n",
      "|       42|             MINOR|\n",
      "|       -5|       ANTECIPATED|\n",
      "|       -4|       ANTECIPATED|\n",
      "|       -3|       ANTECIPATED|\n",
      "|       -2|       ANTECIPATED|\n",
      "|        0|            INTIME|\n",
      "|       21|             MINOR|\n",
      "|       -4|       ANTECIPATED|\n",
      "|       89|             MAJOR|\n",
      "|        3|             MINOR|\n",
      "|       50|             MINOR|\n",
      "|       -3|       ANTECIPATED|\n",
      "|       -9|       ANTECIPATED|\n",
      "|      -12|       ANTECIPATED|\n",
      "+---------+------------------+\n",
      "only showing top 20 rows\n",
      "\n"
     ]
    }
   ],
   "source": [
    "df_flights = df_flights.withColumn('dep_delay_category', F.when(F.col('dep_delay')<0, 'ANTECIPATED')\n",
    "                                                          .when(F.col('dep_delay')==0, 'INTIME')\n",
    "                                                          .when(F.col('dep_delay').between(0,60), 'MINOR')\n",
    "                                                          .when(F.col('dep_delay')>60, 'MAJOR')\n",
    "                                  )\n",
    "\n",
    "\n",
    "df_flights.select('dep_delay', 'dep_delay_category').show()"
   ]
  }
 ],
 "metadata": {
  "kernelspec": {
   "display_name": "Python 3 (ipykernel)",
   "language": "python",
   "name": "python3"
  },
  "language_info": {
   "codemirror_mode": {
    "name": "ipython",
    "version": 3
   },
   "file_extension": ".py",
   "mimetype": "text/x-python",
   "name": "python",
   "nbconvert_exporter": "python",
   "pygments_lexer": "ipython3",
   "version": "3.9.7"
  }
 },
 "nbformat": 4,
 "nbformat_minor": 5
}
